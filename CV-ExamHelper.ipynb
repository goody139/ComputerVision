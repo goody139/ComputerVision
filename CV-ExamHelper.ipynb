{
 "cells": [
  {
   "cell_type": "markdown",
   "id": "b5960c67",
   "metadata": {},
   "source": [
    "filter kernels:\n",
    "* linear smoothing filters\n",
    "    - box filter\n",
    "    - gaussian filter\n",
    "    - binomial filter\n",
    "* derivative filters:\n",
    "    - prewitt operator\n",
    "    - sobel filter\n",
    "    - laplace operator\n",
    "* nonlinear smoothing\n",
    "    - min filter\n",
    "    - max filter\n",
    "    - median filter\n",
    "    - knn filter - missing\n",
    "    - symmetric knn filter - missing"
   ]
  },
  {
   "cell_type": "markdown",
   "id": "f4c9bb8e",
   "metadata": {},
   "source": [
    "## Convolution"
   ]
  },
  {
   "cell_type": "code",
   "execution_count": 21,
   "id": "2b4f7d4c",
   "metadata": {
    "scrolled": false
   },
   "outputs": [
    {
     "name": "stdout",
     "output_type": "stream",
     "text": [
      "0.0*2 + 0.25*0 + 0.0*0 + 0.25*0 + (-1.0)*2 + (-0.25)*1 + 0.0*0 + 0.25*1 + 0.0*2 +  =  -2.0\n",
      "[[-2.  0.]\n",
      " [ 0.  0.]]\n",
      "0.0*0 + 0.25*0 + 0.0*0 + 0.25*2 + (-1.0)*1 + (-0.25)*2 + 0.0*1 + 0.25*2 + 0.0*1 +  =  -0.5\n",
      "[[-2.  -0.5]\n",
      " [ 0.   0. ]]\n",
      "0.0*0 + 0.25*2 + 0.0*1 + 0.25*0 + (-1.0)*1 + (-0.25)*2 + 0.0*0 + 0.25*2 + 0.0*1 +  =  -0.5\n",
      "[[-2.  -0.5]\n",
      " [-0.5  0. ]]\n",
      "0.0*2 + 0.25*1 + 0.0*2 + 0.25*1 + (-1.0)*2 + (-0.25)*1 + 0.0*2 + 0.25*1 + 0.0*2 +  =  -1.5\n",
      "[[-2.  -0.5]\n",
      " [-0.5 -1.5]]\n"
     ]
    },
    {
     "data": {
      "text/plain": [
       "array([[-2. , -0.5],\n",
       "       [-0.5, -1.5]])"
      ]
     },
     "execution_count": 21,
     "metadata": {},
     "output_type": "execute_result"
    }
   ],
   "source": [
    "to_convolve=[[2,0,0,0],\n",
    "             [0,2,1,2],\n",
    "             [0,1,2,1],\n",
    "             [0,2,1,2]]\n",
    "\n",
    "kernel = [[0,-1,-2],\n",
    "         [1,0,-1],\n",
    "         [2,1,0]]\n",
    "\n",
    "\n",
    "box = np.ones((3,3))*1/(3*3) \n",
    "\n",
    "sobel_v = np.array([[1,0,-1],[2,0,-2],[1,0,-1]])*(1/4)\n",
    "sobel_h = np.array([[1,2,1],[0,0,0],[-1,-2,-1]])*(1/4)\n",
    "sobel_d1 = np.array([[0,-1,-2],[1,0,-1],[2,1,0]])*(1/4)\n",
    "sobel_d2 = np.flipud(sobel_d1)\n",
    "\n",
    "gauss_3 = np.array([[1,2,1],[2,4,2],[1,2,1]])*(1/16)\n",
    "gauss_5 = 1/256 * np.asarray([[1,4,6,4,1],[4,16,24,16,4],[6,24,36,24,6],[4,16,24,16,4],[1,4,6,4,1]])\n",
    "\n",
    "binom_3 = np.array([[1,2,1],[2,4,2],[1,2,1]])*(1/16)\n",
    "binom_4 = np.array([[1,3,3,1],[3,9,9,3],[3,9,9,3],[1,3,3,1]])*(1/64)\n",
    "binom_5 = np.array([[1,4,6,4,1],[4,16,24,16,4],[6,24,36,24,6],[4,16,24,16,4],[1,4,6,4,1]])*(1/256)\n",
    "\n",
    "prewitt = np.array([[1,0,-1],[1,0,-1],[1,0,-1]])*(1/3)\n",
    "laplace = np.array([[0,1,0],[1,-4,-1],[0,1,0]])*(1/4)\n",
    "\n",
    "#kernel = gauss_3\n",
    "\n",
    "my_convolve2d(np.array(to_convolve),\n",
    "              np.array(laplace),\n",
    "              strides=1,\n",
    "              padding=\"valid\") # \"valid\" for ignoring boundaries, \"same\" for zero padding"
   ]
  },
  {
   "cell_type": "markdown",
   "id": "e300a087",
   "metadata": {},
   "source": [
    "## nonlinear filter kernels"
   ]
  },
  {
   "cell_type": "code",
   "execution_count": 22,
   "id": "6c7c0c30",
   "metadata": {},
   "outputs": [
    {
     "name": "stdout",
     "output_type": "stream",
     "text": [
      "[[1. 1. 1.]\n",
      " [1. 1. 1.]\n",
      " [1. 1. 1.]]\n",
      "\n",
      "min\n",
      " [[0 0 0 0]\n",
      " [0 0 0 0]\n",
      " [0 0 1 1]\n",
      " [0 0 1 1]]\n",
      "\n",
      "max\n",
      " [[2 2 2 2]\n",
      " [2 2 2 2]\n",
      " [2 2 2 2]\n",
      " [2 2 2 2]]\n",
      "\n",
      "median\n",
      " [[0 0 0 0]\n",
      " [0 1 1 0]\n",
      " [0 1 2 1]\n",
      " [0 0 1 0]]\n"
     ]
    }
   ],
   "source": [
    "image=[[2,0,0,0],\n",
    "             [0,2,1,2],\n",
    "             [0,1,2,1],\n",
    "             [0,2,1,2]]\n",
    "\n",
    "kernel = np.ones((3,3))\n",
    "print(kernel)\n",
    "\n",
    "print()\n",
    "#min\n",
    "print(\"min\\n\",minimum_filter(image, footprint=kernel))\n",
    "print()\n",
    "#max\n",
    "print(\"max\\n\",maximum_filter(image, footprint=kernel))\n",
    "print()\n",
    "#median\n",
    "print(\"median\\n\",median_filter(image, size=3, mode=\"constant\", cval=0))"
   ]
  },
  {
   "cell_type": "markdown",
   "id": "1b01bcf7",
   "metadata": {},
   "source": [
    "## Morphological operators"
   ]
  },
  {
   "cell_type": "markdown",
   "id": "9fe662f2",
   "metadata": {},
   "source": [
    "### Erosion, dilation, opening, closing"
   ]
  },
  {
   "cell_type": "code",
   "execution_count": 23,
   "id": "098a7963",
   "metadata": {
    "scrolled": true
   },
   "outputs": [
    {
     "name": "stdout",
     "output_type": "stream",
     "text": [
      "erosion:\n",
      " [[0 0 0 0]\n",
      " [0 0 0 0]\n",
      " [0 0 1 1]\n",
      " [0 0 1 1]]\n",
      "\n",
      "dilation:\n",
      " [[2 2 2 1]\n",
      " [2 2 2 2]\n",
      " [2 2 2 2]\n",
      " [2 2 2 2]]\n",
      "\n",
      "opening:\n",
      " [[0 0 0 0]\n",
      " [0 0 0 1]\n",
      " [0 1 1 1]\n",
      " [0 1 1 1]]\n",
      "\n",
      "closing:\n",
      " [[2 2 1 1]\n",
      " [2 2 1 1]\n",
      " [2 2 2 2]\n",
      " [2 2 2 2]]\n"
     ]
    }
   ],
   "source": [
    "# erosion\n",
    "image=[[2,0,0,0],\n",
    "             [0,2,1,2],\n",
    "             [0,1,2,1],\n",
    "             [0,2,1,2]]\n",
    "\n",
    "kernel = [[0,0,1],\n",
    "          [1,1,1],\n",
    "          [1,0,0]]\n",
    "\n",
    "\n",
    "print(\"erosion:\\n\",erosion(image,kernel))\n",
    "print()\n",
    "print(\"dilation:\\n\",dilation(image,kernel))\n",
    "print()\n",
    "print(\"opening:\\n\",dilation(erosion(image,kernel), kernel))\n",
    "print()\n",
    "print(\"closing:\\n\",erosion(dilation(image,kernel), kernel))"
   ]
  },
  {
   "cell_type": "markdown",
   "id": "6f4b9e1b",
   "metadata": {},
   "source": [
    "### Hit or miss"
   ]
  },
  {
   "cell_type": "code",
   "execution_count": 24,
   "id": "7121a19b",
   "metadata": {},
   "outputs": [
    {
     "data": {
      "text/plain": [
       "array([[False, False, False, False, False, False, False],\n",
       "       [False, False, False, False, False, False, False],\n",
       "       [False, False, False, False, False, False, False],\n",
       "       [False, False, False, False, False, False, False],\n",
       "       [False, False, False, False, False, False, False],\n",
       "       [False, False, False,  True, False, False, False],\n",
       "       [False, False, False, False, False, False, False]])"
      ]
     },
     "execution_count": 24,
     "metadata": {},
     "output_type": "execute_result"
    }
   ],
   "source": [
    "image=[[0,0, 1, 0,0,0,0],\n",
    "       [0,0,1,0,1,0,0],\n",
    "       [0,1,0,1,1,0,0],\n",
    "       [0,0,0,0,0,1,0],\n",
    "      [1,0,0,1,0,1,0],\n",
    "      [0,0,1,1,0,1,0],\n",
    "      [0,0,0,0,0,0,0]]\n",
    "\n",
    "hit=[[0,1],\n",
    "     [1,1],]\n",
    "\n",
    "miss=[[1,1,1,1],\n",
    "      [1,1,0,1],\n",
    "      [1,0,0,1],\n",
    "     [1,1,1,1]]\n",
    "\n",
    "binary_hit_or_miss(image, hit, miss)"
   ]
  },
  {
   "cell_type": "markdown",
   "id": "c20c13bb",
   "metadata": {},
   "source": [
    "## Euclidean distance transform"
   ]
  },
  {
   "cell_type": "code",
   "execution_count": 19,
   "id": "dd7c1762",
   "metadata": {},
   "outputs": [
    {
     "name": "stdout",
     "output_type": "stream",
     "text": [
      "[[0.         0.         0.         0.        ]\n",
      " [1.         1.         0.         0.        ]\n",
      " [2.         1.41421356 1.         0.        ]\n",
      " [2.82842712 2.         1.         0.        ]]\n",
      "\n",
      "generalized\n",
      "[[-1.         -1.41421356 -2.23606798 -3.16227766]\n",
      " [ 1.          1.         -2.82842712 -3.60555128]\n",
      " [ 2.          1.41421356  1.         -4.24264069]\n",
      " [ 2.82842712  2.          1.         -5.        ]]\n"
     ]
    }
   ],
   "source": [
    "image=[[0,0,0,0],\n",
    "       [1,1,0,0],\n",
    "       [1,1,1,0],\n",
    "       [1,1,1,0]]\n",
    "\n",
    "kernel = [[0,1,1],\n",
    "         [1,0,1],\n",
    "         [2,1,0]]\n",
    "\n",
    "image = np.array(image)\n",
    "# normal distance transform\n",
    "dt = distance_transform_edt(image)\n",
    "print(dt)\n",
    "print()\n",
    "print(\"generalized\")\n",
    "# generalized dt\n",
    "dt = np.where(dt != 0, dt, -1*distance_transform_edt(~image))\n",
    "print(dt)"
   ]
  },
  {
   "cell_type": "markdown",
   "id": "b70f01dd",
   "metadata": {},
   "source": [
    "## Interactive hough transform"
   ]
  },
  {
   "cell_type": "code",
   "execution_count": 20,
   "id": "4ce2023b",
   "metadata": {},
   "outputs": [
    {
     "data": {
      "image/png": "[encoded data removed]",
      "text/plain": [
       "<Figure size 432x288 with 2 Axes>"
      ]
     },
     "metadata": {
      "needs_background": "light"
     },
     "output_type": "display_data"
    }
   ],
   "source": [
    "interactive_hough()"
   ]
  },
  {
   "cell_type": "markdown",
   "id": "e7f1ddeb",
   "metadata": {},
   "source": [
    "## Color"
   ]
  },
  {
   "cell_type": "markdown",
   "id": "a19367ed",
   "metadata": {},
   "source": [
    "Color conversion tools:  \n",
    "https://convertingcolors.com/rgb-color-255_255_255.html?search=RGB(255,25Untitled 35,255)  \n",
    "https://coolors.co/73663f"
   ]
  },
  {
   "cell_type": "markdown",
   "id": "3dc28c1a",
   "metadata": {},
   "source": [
    "# Run all below!!"
   ]
  },
  {
   "cell_type": "code",
   "execution_count": 9,
   "id": "1b5661ef",
   "metadata": {},
   "outputs": [],
   "source": [
    "from scipy.ndimage.morphology import binary_hit_or_miss\n",
    "from skimage.morphology import erosion, dilation\n",
    "from scipy.ndimage.morphology import distance_transform_edt\n",
    "import numpy as np\n",
    "from scipy.ndimage import maximum_filter, minimum_filter, median_filter"
   ]
  },
  {
   "cell_type": "code",
   "execution_count": 10,
   "id": "dfcd2771",
   "metadata": {},
   "outputs": [],
   "source": [
    "def my_convolve2d(img, kern, strides=1, padding=\"valid\"):\n",
    "    \"\"\"Convolve an image with a kernel.\n",
    "\n",
    "    Args:\n",
    "        img (np.ndarray): The image, provided as a two-dimensional array.\n",
    "        kern (np.ndarray): The kernel, also a two-dimensional array.\n",
    "        \n",
    "    Returns:\n",
    "        result (np.ndarray): The convolved image. \n",
    "        \n",
    "    \"\"\"\n",
    "    \n",
    "    # store the image size for easier access\n",
    "    M,N = img.shape\n",
    "    # store the kernel size\n",
    "    m,n = kern.shape\n",
    "    # and also the half kernel size\n",
    "    mh, nh = (m//2, n//2)\n",
    "    \n",
    "    # Initialize the result matrix\n",
    "    result = np.zeros((M,N))\n",
    "    \n",
    "    # Compute the convolution\n",
    "    # YOUR CODE HERE\n",
    "    if padding == \"same\":\n",
    "        # add padding to image with half the kernel size at each side\n",
    "        padded = np.zeros([M+2*mh,N+2*nh])\n",
    "        padded[mh:mh+M, nh:nh+N]=img\n",
    "    elif padding == \"valid\":\n",
    "        padded = img\n",
    "\n",
    "    pM, pN = padded.shape    \n",
    "    result = np.zeros(((padded.shape[0]-m)//strides+1, (padded.shape[1]-n)//strides+1))\n",
    "\n",
    "    for r in range(pM-m+1):\n",
    "        for h in range(pN-n+1):\n",
    "            if r%strides==0 and h%strides==0:\n",
    "                result[r//strides, h//strides] += np.sum(kern * padded[r:r+m, h:h+n])\n",
    "                \n",
    "                outstring = \"\"\n",
    "                for k,p in zip(kern.flatten(), padded[r:r+m, h:h+n].flatten()):\n",
    "                    outstring += str(k) if k>=0 else \"(\"+str(k)+\")\"\n",
    "                    outstring += \"*\"+str(p)+\" + \" if p>=0 else \"*(\"+str(p)+\") + \"\n",
    "                print(outstring[:-1],\" = \", np.sum(kern * padded[r:r+m, h:h+n]))\n",
    "                print(result)\n",
    "\n",
    "    return result"
   ]
  },
  {
   "cell_type": "code",
   "execution_count": 11,
   "id": "68135342",
   "metadata": {},
   "outputs": [],
   "source": [
    "import numpy as np\n",
    "import matplotlib.pyplot as plt\n",
    "from scipy.ndimage import morphology as morph, generate_binary_structure\n",
    "from imageio import imread\n",
    "from skimage import morphology\n",
    "\n",
    "def my_distance_transform(img, structure=morphology.square(5), general=True):\n",
    "    \"\"\"Distance transform of binary image.\n",
    "\n",
    "    Args:\n",
    "    img (ndarray of bools): A binary image.\n",
    "        \n",
    "    Returns:\n",
    "    dt (ndarray of ints): The distance transform of the input image.\n",
    "    \"\"\"\n",
    "    original = np.copy(img)\n",
    "    dt = np.zeros(img.shape,np.int32)\n",
    "    # YOUR CODE HERE\n",
    "    n = 0\n",
    "    while np.any(img):\n",
    "        boundary = img ^ morph.binary_erosion(img, structure)\n",
    "        dt[boundary] = n\n",
    "        img = img ^ boundary\n",
    "        n += 1\n",
    "        print(\"t\",img)\n",
    "    \n",
    "    if general:\n",
    "        n=0\n",
    "        img = original\n",
    "        while np.any(~img):\n",
    "            print(\"test\", img, ~img)\n",
    "            boundary = img ^ morph.binary_dilation(img, structure)\n",
    "            print()\n",
    "            print(\"img:\", img)\n",
    "            print(\"dilated\",morph.binary_dilation(img, structure))\n",
    "            print()\n",
    "            print(boundary)\n",
    "            print()\n",
    "            print()\n",
    "            dt[boundary] = n\n",
    "            img = img ^ boundary\n",
    "            n -= 1\n",
    "\n",
    "    # normalize\n",
    "    #dt = dt + np.abs(np.min(dt))\n",
    "\n",
    "    return dt"
   ]
  },
  {
   "cell_type": "code",
   "execution_count": 12,
   "id": "74ce99be",
   "metadata": {},
   "outputs": [],
   "source": [
    "#%matplotlib notebook\n",
    "from skimage.transform import hough_line\n",
    "from skimage.transform import resize\n",
    "import matplotlib.pyplot as plt\n",
    "import numpy as np\n",
    "\n",
    "def interactive_hough():\n",
    "    # True if two mouse clicks should draw a line, false if single clicks draw points\n",
    "    lines = True\n",
    "\n",
    "\n",
    "    steps = lambda p,q : max(map(lambda x,y: abs(x-y), p, q))+1\n",
    "    coords = lambda p,q,s : tuple([np.linspace(x,y,s,dtype=np.uint16) for x,y in zip(p,q)])\n",
    "    img = np.zeros((200,200))\n",
    "\n",
    "\n",
    "    def line(img, p, q):\n",
    "        \"\"\"Insert a line from p to q in the black/white image\n",
    "\n",
    "        Args:\n",
    "            img (ndarray): Input image.\n",
    "            p (tuple): Coordinate of start position.\n",
    "            q (tuple): Coordinate of end position.\n",
    "\n",
    "        Returns:\n",
    "\n",
    "        \"\"\"\n",
    "        img[coords(p,q,steps(p,q))] = 1\n",
    "\n",
    "\n",
    "    def disp_and_comp():\n",
    "        \"\"\"Computes Line Hough transform; displays image and result\n",
    "\n",
    "        Args:\n",
    "\n",
    "        Returns:\n",
    "\n",
    "        \"\"\"\n",
    "        ax1.imshow(img, origin = 'lower', cmap='gray')\n",
    "\n",
    "        out, angles, d = hough_line(img)\n",
    "\n",
    "        out_resized = resize(out, (out.shape[0], out.shape[0]), anti_aliasing=True, preserve_range=True)\n",
    "        ax2.imshow(np.log(1 + out_resized), origin = 'lower', cmap='gray')\n",
    "        ax2.set_yticks(np.linspace(0, out.shape[0], 7))\n",
    "        ax2.set_yticklabels((-1 * np.linspace(d[-1], d[0], 7)).astype(int))\n",
    "        ax2.set_xticks(np.linspace(0, out.shape[0], 5))\n",
    "        ax2.set_xticklabels(np.linspace(np.rad2deg(angles[0]), np.rad2deg(angles[-1]), 5).astype(int))\n",
    "\n",
    "        fig.canvas.draw()\n",
    "\n",
    "\n",
    "    first_point = True\n",
    "    p1 = (0,0)\n",
    "    def on_press(event):\n",
    "        \"\"\"Draws either line or point and calls disp_and_comp\n",
    "\n",
    "        Reacts to mouse clicks. Draws either point at mouse\n",
    "        position and computes Hough transform or draws line\n",
    "        between first and second mouse click and then computes\n",
    "        hough transfom.\n",
    "\n",
    "        Args:\n",
    "            event (event): Mouseevent.\n",
    "\n",
    "        Returns:\n",
    "\n",
    "        \"\"\"\n",
    "        global p1, first_point\n",
    "        y = int(event.xdata)\n",
    "        x = int(event.ydata)\n",
    "\n",
    "        if (lines):\n",
    "            if (first_point):\n",
    "                p1 = (x,y)\n",
    "                img[x, y] = 255\n",
    "                first_point = False\n",
    "            else:\n",
    "                line(img,p1,(x,y)) \n",
    "                first_point = True\n",
    "            disp_and_comp()\n",
    "        else:\n",
    "            img[x, y] = 255\n",
    "            disp_and_comp()\n",
    "\n",
    "\n",
    "\n",
    "\n",
    "\n",
    "\n",
    "    fig = plt.figure(figsize=(6, 4))\n",
    "\n",
    "    ax1 = fig.add_subplot(121)\n",
    "    plt.title('Image')\n",
    "\n",
    "    ax2 = fig.add_subplot(122)\n",
    "    plt.title('Hough transform');\n",
    "    plt.xlabel('Angles (degrees)')\n",
    "    plt.ylabel('Distance (pixels)')\n",
    "\n",
    "\n",
    "    disp_and_comp()\n",
    "    #plt.axis('square')\n",
    "    fig.canvas.mpl_connect('button_press_event', on_press)\n",
    "    \n"
   ]
  }
 ],
 "metadata": {
  "kernelspec": {
   "display_name": "Python 3 (ipykernel)",
   "language": "python",
   "name": "python3"
  },
  "language_info": {
   "codemirror_mode": {
    "name": "ipython",
    "version": 3
   },
   "file_extension": ".py",
   "mimetype": "text/x-python",
   "name": "python",
   "nbconvert_exporter": "python",
   "pygments_lexer": "ipython3",
   "version": "3.9.7"
  }
 },
 "nbformat": 4,
 "nbformat_minor": 5
}
