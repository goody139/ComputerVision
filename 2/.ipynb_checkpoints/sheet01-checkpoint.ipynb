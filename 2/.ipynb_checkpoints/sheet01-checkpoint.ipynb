{
 "cells": [
  {
   "cell_type": "markdown",
   "id": "b64fd4f0",
   "metadata": {
    "deletable": false,
    "editable": false,
    "nbgrader": {
     "cell_type": "markdown",
     "checksum": "8e72947913d0c85c5e5b065aec6a7941",
     "grade": false,
     "grade_id": "h00",
     "locked": true,
     "schema_version": 3,
     "solution": false
    }
   },
   "source": [
    "Osnabrück University - Computer Vision (Winter Term 2021/22) - Prof. Dr.-Ing. G. Heidemann, Ulf Krumnack, Axel Schaffland"
   ]
  },
  {
   "cell_type": "markdown",
   "id": "09744bd8",
   "metadata": {
    "deletable": false,
    "editable": false,
    "nbgrader": {
     "cell_type": "markdown",
     "checksum": "ee0685d745192358300cd25c4efc45a5",
     "grade": false,
     "grade_id": "h01",
     "locked": true,
     "schema_version": 3,
     "solution": false
    }
   },
   "source": [
    "# Exercise Sheet 01: Basic Operations - Convolution"
   ]
  },
  {
   "cell_type": "markdown",
   "id": "04023706",
   "metadata": {
    "deletable": false,
    "editable": false,
    "nbgrader": {
     "cell_type": "markdown",
     "checksum": "1d50f144aadddeabbab8cf471982ff4a",
     "grade": false,
     "grade_id": "h02",
     "locked": true,
     "schema_version": 3,
     "solution": false
    }
   },
   "source": [
    "## Introduction\n",
    "\n",
    "This is the first \"real\" homework sheet.\n",
    "\n",
    "The homework sheets will usually be available on Tuesdays before the practice session and are supposed to be solved in groups of three. They have to be handed in before the next practice session in the following week. The exercises are then presented to your tutor in a small feedback session. To acquire the admission for the final exam, you will have to pass 𝑁−2 of the weekly provided exercise sheets.\n",
    "\n",
    "Sign up for a group on Stud.IP if you have not already done so(See Participants -> Functions/Groups). The times mentioned there are the times for the feedback session of your group. If none of them fits, send any of the tutors an e-mail so we can try to arrange something.\n",
    "\n",
    "Your group will have a group folder in Stud.IP under Documents. Upload your solutions there to hand them in.\n",
    "\n",
    "This week's sheet should be solved and handed in before **Tuesday, November 9, 2021, 2:00pm**. Please upload your results to your group's Stud.IP folder."
   ]
  },
  {
   "cell_type": "markdown",
   "id": "d9810e62",
   "metadata": {
    "deletable": false,
    "editable": false,
    "nbgrader": {
     "cell_type": "markdown",
     "checksum": "963490a52ec335486114f07426d80789",
     "grade": false,
     "grade_id": "conv-theory",
     "locked": true,
     "schema_version": 3,
     "solution": false
    }
   },
   "source": [
    "## Assignment 1: Twodimensional Convolution [8 Points]\n",
    "\n",
    "This exercise is purely theoretical and does not require implementation."
   ]
  },
  {
   "cell_type": "markdown",
   "id": "670570e2",
   "metadata": {
    "deletable": false,
    "editable": false,
    "nbgrader": {
     "cell_type": "markdown",
     "checksum": "beb7b42e40bc3fe467f855f91c260b1a",
     "grade": false,
     "grade_id": "conv-theory-q1",
     "locked": true,
     "schema_version": 3,
     "solution": false
    }
   },
   "source": [
    "### a) Definition\n",
    "\n",
    "Describe in your own words how convolution works."
   ]
  },
  {
   "cell_type": "markdown",
   "id": "3a6954d9",
   "metadata": {
    "deletable": false,
    "nbgrader": {
     "cell_type": "markdown",
     "checksum": "fc7db21fd0a445c1915f630c5cf3d48b",
     "grade": true,
     "grade_id": "conv-theory-a1",
     "locked": false,
     "points": 2,
     "schema_version": 3,
     "solution": true
    },
    "solution": true
   },
   "source": [
    "YOUR ANSWER HERE"
   ]
  },
  {
   "cell_type": "markdown",
   "id": "accf7787",
   "metadata": {
    "deletable": false,
    "editable": false,
    "nbgrader": {
     "cell_type": "markdown",
     "checksum": "785d62bb0630fd558d898cfa75bc326e",
     "grade": false,
     "grade_id": "conv-theory-q2",
     "locked": true,
     "schema_version": 3,
     "solution": false
    }
   },
   "source": [
    "### b) Properties\n",
    "Is convolution linear or non-linear? Is it homogenous or inhomogenous? Proof your answers."
   ]
  },
  {
   "cell_type": "markdown",
   "id": "d076d4a8",
   "metadata": {
    "deletable": false,
    "nbgrader": {
     "cell_type": "markdown",
     "checksum": "97f9914348b57dcf233aea9425d13911",
     "grade": true,
     "grade_id": "conv-theory-a2",
     "locked": false,
     "points": 2,
     "schema_version": 3,
     "solution": true
    },
    "solution": true
   },
   "source": [
    "YOUR ANSWER HERE"
   ]
  },
  {
   "cell_type": "markdown",
   "id": "a61a8fba",
   "metadata": {
    "deletable": false,
    "editable": false,
    "nbgrader": {
     "cell_type": "markdown",
     "checksum": "8065810ff49ce5f5de648fec49ba4f5e",
     "grade": false,
     "grade_id": "conv-theory-q3",
     "locked": true,
     "schema_version": 3,
     "solution": false
    }
   },
   "source": [
    "### c) Complexity\n",
    "\n",
    "Assume an image $g$ of size $M\\times N$ and a kernel $k$ of size $(2m+1)\\times(2n+1)$. How many operations (additions and multiplications) are required to compute a convoluted image $g\\ast k$ (of the same size as $g$)?"
   ]
  },
  {
   "cell_type": "markdown",
   "id": "168659da",
   "metadata": {
    "deletable": false,
    "nbgrader": {
     "cell_type": "markdown",
     "checksum": "4c6e7adab92c341780c045e00023fbae",
     "grade": true,
     "grade_id": "conv-theory-a3",
     "locked": false,
     "points": 2,
     "schema_version": 3,
     "solution": true
    },
    "solution": true
   },
   "source": [
    "YOUR ANSWER HERE"
   ]
  },
  {
   "cell_type": "markdown",
   "id": "23da97ba",
   "metadata": {
    "deletable": false,
    "editable": false,
    "nbgrader": {
     "cell_type": "markdown",
     "checksum": "08027a4887a3de1bfaa9ae8413fc5766",
     "grade": false,
     "grade_id": "conv-theory-q4",
     "locked": true,
     "schema_version": 3,
     "solution": false
    }
   },
   "source": [
    "### d) Separability\n",
    "\n",
    "What is a separable kernel? Describe, how it can be applied more efficiently. Compute the number of operations for getting $g\\ast k$ (as in (c), but with a separable kernel $k$) and compare the results. Assume that the kernel is of size $m \\times n$ and the image is of size $M \\times N$. Compute the number of operations first for a single pixel and then extend your answer to the whole image. Ignore the normalization of the kernel, i.e. the fraction in front.\n",
    "\n",
    "Note that here we define the kernel size as $m \\times n$ as opposed to Assignment *1c)*. This is a shorter notation."
   ]
  },
  {
   "cell_type": "markdown",
   "id": "ef1a1098",
   "metadata": {
    "deletable": false,
    "nbgrader": {
     "cell_type": "markdown",
     "checksum": "015628beb7042ab70148278810a13c95",
     "grade": true,
     "grade_id": "conv-theory-a4",
     "locked": false,
     "points": 2,
     "schema_version": 3,
     "solution": true
    }
   },
   "source": [
    "YOUR ANSWER HERE"
   ]
  },
  {
   "cell_type": "markdown",
   "id": "052957b9",
   "metadata": {
    "deletable": false,
    "editable": false,
    "nbgrader": {
     "cell_type": "markdown",
     "checksum": "7dc9ed13ccfe6a8521ea22bb5b7fb5ea",
     "grade": false,
     "grade_id": "conv-application",
     "locked": true,
     "schema_version": 3,
     "solution": false
    }
   },
   "source": [
    "## Assignment 2: Applying Convolution [4 Points]\n",
    "\n",
    "In this exercise you will apply convolution with different kernels. You may use the function `scipy.ndimage.filters.convolve` to solve this task. Check the documentation to learn how to use this function. In this assignment you do not have to implement the convolution yourself. Realize the following filters, describe their effect and possible applications."
   ]
  },
  {
   "cell_type": "markdown",
   "id": "79b471ea",
   "metadata": {
    "deletable": false,
    "editable": false,
    "nbgrader": {
     "cell_type": "markdown",
     "checksum": "8a25c0fb618862b455e580b74a523105",
     "grade": false,
     "grade_id": "conv-application-q1",
     "locked": true,
     "schema_version": 3,
     "solution": false
    }
   },
   "source": [
    "### a) Box filter"
   ]
  },
  {
   "cell_type": "code",
   "execution_count": null,
   "id": "6a0679b2",
   "metadata": {
    "deletable": false,
    "nbgrader": {
     "cell_type": "code",
     "checksum": "2a37b17186698a80aecb509ccf2d269a",
     "grade": true,
     "grade_id": "conv-application-a1",
     "locked": false,
     "points": 1,
     "schema_version": 3,
     "solution": true
    }
   },
   "outputs": [],
   "source": [
    "%matplotlib inline\n",
    "import matplotlib.pyplot as plt\n",
    "import numpy as np\n",
    "from imageio import imread\n",
    "from skimage import data\n",
    "\n",
    "# Load an image\n",
    "#image = imread('some_file.png', pilmode = 'F')\n",
    "image = data.coins().astype(np.float32)\n",
    "\n",
    "filtered_image = image # replace this by your solution\n",
    "# YOUR CODE HERE\n",
    "\n",
    "fig = plt.figure(figsize=(15,7))\n",
    "a=fig.add_subplot(1,2,1)\n",
    "plt.imshow(image, cmap = 'gray')\n",
    "plt.axis('off')\n",
    "a=fig.add_subplot(1,2,2)\n",
    "plt.imshow(filtered_image, cmap = 'gray')\n",
    "plt.axis('off')\n",
    "plt.show()"
   ]
  },
  {
   "cell_type": "markdown",
   "id": "a4f7abc7",
   "metadata": {
    "deletable": false,
    "editable": false,
    "nbgrader": {
     "cell_type": "markdown",
     "checksum": "a4ba96b41df47da693821157ca70efd5",
     "grade": false,
     "grade_id": "conv-application-q2",
     "locked": true,
     "schema_version": 3,
     "solution": false
    }
   },
   "source": [
    "### b) Gaussian filter\n",
    "\n",
    "You may try different filter sizes."
   ]
  },
  {
   "cell_type": "code",
   "execution_count": null,
   "id": "1a55eb64",
   "metadata": {
    "deletable": false,
    "nbgrader": {
     "cell_type": "code",
     "checksum": "6cd73e3d844ae2d0a02303b2f3f9116e",
     "grade": true,
     "grade_id": "conv-application-a2",
     "locked": false,
     "points": 1,
     "schema_version": 3,
     "solution": true
    }
   },
   "outputs": [],
   "source": [
    "%matplotlib inline\n",
    "import matplotlib.pyplot as plt\n",
    "import numpy as np\n",
    "from imageio import imread\n",
    "from skimage import data\n",
    "\n",
    "# Load an image\n",
    "#image = imread('some_file.png', pilmode = 'F')\n",
    "image = data.coins().astype(np.float32)\n",
    "\n",
    "filtered_image = image # replace this by your solution\n",
    "# YOUR CODE HERE\n",
    "\n",
    "fig = plt.figure(figsize=(15,7))\n",
    "a=fig.add_subplot(1,2,1)\n",
    "plt.imshow(image, cmap = 'gray')\n",
    "plt.axis('off')\n",
    "a=fig.add_subplot(1,2,2)\n",
    "plt.imshow(filtered_image, cmap = 'gray')\n",
    "plt.axis('off')\n",
    "plt.show()"
   ]
  },
  {
   "cell_type": "markdown",
   "id": "b78a4d77",
   "metadata": {
    "deletable": false,
    "editable": false,
    "nbgrader": {
     "cell_type": "markdown",
     "checksum": "38667765cad016dd2a187f672509dbdc",
     "grade": false,
     "grade_id": "conv-application-q3",
     "locked": true,
     "schema_version": 3,
     "solution": false
    }
   },
   "source": [
    "### c) Sobel filter\n",
    "\n",
    "Try horizontal, vertical, and diagonal sobel filters."
   ]
  },
  {
   "cell_type": "code",
   "execution_count": null,
   "id": "e2a211d7",
   "metadata": {
    "deletable": false,
    "nbgrader": {
     "cell_type": "code",
     "checksum": "38fc340aeded67e5b4c374b84814b0e2",
     "grade": true,
     "grade_id": "conv-application-a3",
     "locked": false,
     "points": 1,
     "schema_version": 3,
     "solution": true
    }
   },
   "outputs": [],
   "source": [
    "%matplotlib inline\n",
    "import matplotlib.pyplot as plt\n",
    "import numpy as np\n",
    "from imageio import imread\n",
    "from skimage import data\n",
    "\n",
    "# Load an image\n",
    "#image = imread('some_file.png', pilmode = 'F')\n",
    "image = data.coins().astype(np.float32)\n",
    "\n",
    "filtered_image = image # replace this by your solution\n",
    "# YOUR CODE HERE\n",
    "\n",
    "fig = plt.figure(figsize=(15,7))\n",
    "a=fig.add_subplot(1,2,1)\n",
    "plt.imshow(image, cmap = 'gray')\n",
    "plt.axis('off')\n",
    "a=fig.add_subplot(1,2,2)\n",
    "plt.imshow(filtered_image, cmap = 'gray')\n",
    "plt.axis('off')\n",
    "plt.show()"
   ]
  },
  {
   "cell_type": "markdown",
   "id": "399616de",
   "metadata": {
    "deletable": false,
    "editable": false,
    "nbgrader": {
     "cell_type": "markdown",
     "checksum": "5fa762722f0a2104b9bd779659ec4cab",
     "grade": false,
     "grade_id": "conv-application-q4",
     "locked": true,
     "schema_version": 3,
     "solution": false
    }
   },
   "source": [
    "### d) Unsharp Mask\n",
    "\n",
    "One method to sharpen images is Unsharp Mask in which a negative unsharp mask is added to the original image as follows:\n",
    "\n",
    "$$\\text{Sharpened Image} = \\text{Original Image} + (\\text{Original Image} - \\text{Unsharp Image}) \\cdot \\text{Amount}$$\n",
    "\n",
    "The unsharp image can be computed by convolution with a Gaussian Kernel. Implement unsharp masking with a $5\\times5$ Gaussian Kernel and a sharpening amount of $1.5$. Use the allready defined gaussian kernel \"gauss_5\".\n",
    "\n",
    "Hint: To get good results the final images needs to be clipped to values between $0$ and $255$, i.e. all negative values are set to zero and all values bigger than $255$ are set to $255$.\n",
    "\n",
    "You may experiment with large or negative sharpening amounts.\n",
    "\n",
    "* Why is Unsharp Masking sharpening an image?\n",
    "* What is the difference between normalizing and clipping an image?\n"
   ]
  },
  {
   "cell_type": "markdown",
   "id": "8daea057",
   "metadata": {
    "deletable": false,
    "nbgrader": {
     "cell_type": "markdown",
     "checksum": "e146882a117bdaa1e93629f6afa3f6c0",
     "grade": true,
     "grade_id": "cell-86d3a7953faf8407",
     "locked": false,
     "points": 0.5,
     "schema_version": 3,
     "solution": true,
     "task": false
    }
   },
   "source": [
    "YOUR ANSWER HERE"
   ]
  },
  {
   "cell_type": "code",
   "execution_count": null,
   "id": "0b2800e0",
   "metadata": {
    "deletable": false,
    "nbgrader": {
     "cell_type": "code",
     "checksum": "27af0de81566e137596d71004d5c42ea",
     "grade": true,
     "grade_id": "conv-application-a4",
     "locked": false,
     "points": 0.5,
     "schema_version": 3,
     "solution": true
    }
   },
   "outputs": [],
   "source": [
    "%matplotlib inline\n",
    "import matplotlib.pyplot as plt\n",
    "import numpy as np\n",
    "from imageio import imread\n",
    "from skimage import data\n",
    "\n",
    "# Load an image\n",
    "#image = imread('some_file.png.jpg', mode='F')\n",
    "image = data.coins().astype(np.float32)\n",
    "\n",
    "# Define sharpening amount\n",
    "amount = 1.5\n",
    "\n",
    "# Define the filters:\n",
    "gauss_5 = 1/256 * np.asarray([[1,4,6,4,1],[4,16,24,16,4],[6,24,36,24,6],[4,16,24,16,4],[1,4,6,4,1]])\n",
    "\n",
    "unsharped_mask_image = image # replace this by your solution\n",
    "# YOUR CODE HERE\n",
    "\n",
    "fig = plt.figure(figsize=(15,7))\n",
    "a=fig.add_subplot(1,2,1)\n",
    "plt.imshow(image, cmap = 'gray')\n",
    "plt.axis('off')\n",
    "a=fig.add_subplot(1,2,2)\n",
    "plt.imshow(unsharped_mask_image, cmap = 'gray')\n",
    "plt.axis('off')\n",
    "plt.show()"
   ]
  },
  {
   "cell_type": "markdown",
   "id": "5b22923b",
   "metadata": {
    "deletable": false,
    "editable": false,
    "nbgrader": {
     "cell_type": "markdown",
     "checksum": "e0f2a9fcc68bf726b2cb6896e2870261",
     "grade": false,
     "grade_id": "conv-implementaion",
     "locked": true,
     "schema_version": 3,
     "solution": false
    }
   },
   "source": [
    "## Assignment 3: Implementing Convolution [8 Points]\n",
    "\n",
    "Now implement your own 2-dimensional convolution function. The function should take an image and a kernel a argument and return an image of the same size, containing the result of convolving the image with the kernel.\n",
    "\n",
    "You may notice a problem at the boundaries of the image. Describe the problem and possible solutions. Implement at least one of them.\n",
    "\n",
    "Then apply your function with different kernels. Compare the results with [Assignment 2](#Assignment-2:-Applying-Convolution-[4-Points])."
   ]
  },
  {
   "cell_type": "code",
   "execution_count": null,
   "id": "f99913b4",
   "metadata": {
    "deletable": false,
    "nbgrader": {
     "cell_type": "code",
     "checksum": "e97b2b28447f484b2fcb3141926a3ded",
     "grade": true,
     "grade_id": "conv-implementation-a",
     "locked": false,
     "points": 8,
     "schema_version": 3,
     "solution": true
    }
   },
   "outputs": [],
   "source": [
    "%matplotlib inline\n",
    "import matplotlib.pyplot as plt\n",
    "import numpy as np\n",
    "from skimage import data\n",
    "\n",
    "def my_convolve2d(img, kern):\n",
    "    \"\"\"Convolve an image with a kernel.\n",
    "\n",
    "    Args:\n",
    "        img (np.ndarray): The image, provided as a two-dimensional array.\n",
    "        kern (np.ndarray): The kernel, also a two-dimensional array.\n",
    "        \n",
    "    Returns:\n",
    "        result (np.ndarray): The convolved image. \n",
    "        \n",
    "    \"\"\"\n",
    "    \n",
    "    # store the image size for easier access\n",
    "    M,N = img.shape\n",
    "    # store the kernel size\n",
    "    m,n = kern.shape\n",
    "    # and also the half kernel size\n",
    "    mh, nh = (m//2, n//2)\n",
    "    \n",
    "    # Initialize the result matrix\n",
    "    result = np.zeros((M,N))\n",
    "    \n",
    "    # Compute the convolution\n",
    "    # YOUR CODE HERE\n",
    "\n",
    "    return result\n",
    "\n",
    "# Apply your function to an image:\n",
    "# Try different filters, compare the results with Assignment 2\n",
    "\n",
    "# Load the image\n",
    "image = data.coins().astype(np.float32)\n",
    "\n",
    "box_3 = 1/9 * np.asarray([[1,1,1],[1,1,1],[1,1,1]])\n",
    "filtered_image = my_convolve2d(image,box_3)\n",
    "\n",
    "fig = plt.figure(figsize=(15,7))\n",
    "a=fig.add_subplot(1,2,1)\n",
    "plt.imshow(image, cmap = 'gray')\n",
    "plt.axis('off')\n",
    "a=fig.add_subplot(1,2,2)\n",
    "plt.imshow(filtered_image, cmap = 'gray')\n",
    "plt.axis('off')\n",
    "plt.show()"
   ]
  },
  {
   "cell_type": "markdown",
   "id": "1f780720",
   "metadata": {
    "deletable": false,
    "editable": false,
    "nbgrader": {
     "cell_type": "markdown",
     "checksum": "f9137642e4c922ccc054fd69ef160f19",
     "grade": false,
     "grade_id": "cell-0a34a8a83e27a906",
     "locked": true,
     "schema_version": 3,
     "solution": false,
     "task": false
    }
   },
   "source": [
    "## Bonus Assignment: Optical music recognition (OMR)\n",
    "\n",
    "If you solve this assignment you may leave out one of the other assignments. There will be similar assignments on most of the following sheets.  These bonus assignments are intended to show potential applications of the techniques you learnt in class. They are usually a bit more challenging and often there exist multiple ways to address them. Even if you do not intend to solve them, you may profit from at least taking a look.\n",
    "\n",
    "**Background:** [Optical music recognition](https://en.wikipedia.org/wiki/Optical_music_recognition) \"is a field of research that investigates how to computationally read musical notation in documents. The goal of OMR is to teach the computer to read and interpret sheet music and produce a machine-readable version of the written music score. Once captured digitally, the music can be saved in commonly used file formats, e.g. MIDI (for playback) and MusicXML (for page layout).\"\n",
    "\n",
    "**Data:** The freely available [CVC-MUSCIMA dataset](http://www.cvc.uab.es/cvcmuscima/index_database.html) contains 1000 high-quality images of handwritten music scores, transcribed by 50 different musicians. This dataset has been further extended into the [MUSCIMA++ dataset](https://ufal.mff.cuni.cz/muscima), which contains detailed annotations for 140 out of the 1000 pages. Both datasets are still used for developing and evaluating OMR systems.\n",
    "\n",
    "**Task:** staff removal. The goal is to remove the staff, that is the horizontal lines on which musical symbols are placed, and to only keep the symbols. That is a common preprocessing step in many OMR approaches. We have provided three examples from the CVC-MUSCIMA dataset (`p001.png`, `p002.png`, and `p003.png`) along with the official solutions, showing the expected result (`p001-solution.png`, `p002-solution.png`, and `p003-solution.png`).\n",
    "\n",
    "**Hints:**\n",
    "* think what kind of filtering could help to solve this task\n",
    "* experiment with different kernels, varying shape and size. They do not have to be quadratic.\n",
    "* start working on a small image patch\n",
    "* resize image if appropriate\n",
    "* you may use function from libraries like [scikit-image](https://scikit-image.org/), e.g. the [`skimage.filters` module](https://scikit-image.org/docs/stable/api/skimage.filters.html), for working on this task"
   ]
  },
  {
   "cell_type": "code",
   "execution_count": null,
   "id": "0b76a1d9",
   "metadata": {
    "deletable": false,
    "nbgrader": {
     "cell_type": "code",
     "checksum": "91a3b7f153ce78f3cb9b5917429b1cdb",
     "grade": true,
     "grade_id": "cell-9aaac6bbcadb49cf",
     "locked": false,
     "points": 0,
     "schema_version": 3,
     "solution": true,
     "task": false
    }
   },
   "outputs": [],
   "source": [
    "# YOUR CODE HERE"
   ]
  }
 ],
 "metadata": {
  "kernelspec": {
   "display_name": "Python 3 (ipykernel)",
   "language": "python",
   "name": "python3"
  },
  "language_info": {
   "codemirror_mode": {
    "name": "ipython",
    "version": 3
   },
   "file_extension": ".py",
   "mimetype": "text/x-python",
   "name": "python",
   "nbconvert_exporter": "python",
   "pygments_lexer": "ipython3",
   "version": "3.9.7"
  }
 },
 "nbformat": 4,
 "nbformat_minor": 5
}
