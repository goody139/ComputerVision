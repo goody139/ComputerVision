{
 "cells": [
  {
   "cell_type": "markdown",
   "id": "7b78b82a",
   "metadata": {
    "deletable": false,
    "editable": false,
    "nbgrader": {
     "cell_type": "markdown",
     "checksum": "4c32cd189fe5ac600cf12c1ab60f6378",
     "grade": false,
     "grade_id": "cell-header01",
     "locked": true,
     "schema_version": 3,
     "solution": false
    }
   },
   "source": [
    "Osnabrück University - Computer Vision (Winter Term 2021/22) - Prof. Dr.-Ing. G. Heidemann, Ulf Krumnack, Axel Schaffland"
   ]
  },
  {
   "cell_type": "markdown",
   "id": "3d2acbbc",
   "metadata": {
    "deletable": false,
    "editable": false,
    "nbgrader": {
     "cell_type": "markdown",
     "checksum": "9e96878bb57fbce611a544be1223fcb8",
     "grade": false,
     "grade_id": "cell-header02",
     "locked": true,
     "schema_version": 3,
     "solution": false
    }
   },
   "source": [
    "# Exercise Sheet 10: Compression and Recap"
   ]
  },
  {
   "cell_type": "markdown",
   "id": "46a74135",
   "metadata": {
    "deletable": false,
    "editable": false,
    "nbgrader": {
     "cell_type": "markdown",
     "checksum": "5c45aaef3a68e5106650d5b5f3503c54",
     "grade": false,
     "grade_id": "cell-header03",
     "locked": true,
     "schema_version": 3,
     "solution": false
    }
   },
   "source": [
    "## Introduction\n",
    "\n",
    "This week's sheet should be solved and handed in before the end of **Tuesday, Februrary 1, 2022**. If you need help (and Google and other resources were not enough), feel free to contact your groups' designated tutor or whomever of us you run into first. Please upload your results to your group's Stud.IP folder.\n",
    "\n",
    "The second part of this sheet are recap exercises for the exam. They give no points but we recommend you do them nonetheless."
   ]
  },
  {
   "cell_type": "markdown",
   "id": "609df88a",
   "metadata": {
    "deletable": false,
    "editable": false,
    "nbgrader": {
     "cell_type": "markdown",
     "checksum": "0820eb3199d1e83486b4f8a98a597ce5",
     "grade": false,
     "grade_id": "cell-433af82c3ad3533b",
     "locked": true,
     "schema_version": 3,
     "solution": false
    }
   },
   "source": [
    "## Assignment 1: Redundancy and compression [4 Points]\n"
   ]
  },
  {
   "cell_type": "markdown",
   "id": "76afe6a2",
   "metadata": {
    "deletable": false,
    "editable": false,
    "nbgrader": {
     "cell_type": "markdown",
     "checksum": "0c332f8b82de7fc36b569f896713fa9c",
     "grade": false,
     "grade_id": "cell-7d7b2b8f0c5697bf",
     "locked": true,
     "schema_version": 3,
     "solution": false
    }
   },
   "source": [
    "**a)** Explain in your own words the different types of redundancy mentioned on (CV-10 slide 3). How can you check for each of these types of redundancy?"
   ]
  },
  {
   "cell_type": "markdown",
   "id": "23797bfd",
   "metadata": {
    "deletable": false,
    "nbgrader": {
     "cell_type": "markdown",
     "checksum": "b2138c7277ac16dd72dd117d1aaa6e26",
     "grade": true,
     "grade_id": "cell-daa37d273c908041",
     "locked": false,
     "points": 2,
     "schema_version": 3,
     "solution": true
    },
    "solution": true
   },
   "source": [
    "YOUR ANSWER HERE"
   ]
  },
  {
   "cell_type": "markdown",
   "id": "bbb70a25",
   "metadata": {
    "deletable": false,
    "editable": false,
    "nbgrader": {
     "cell_type": "markdown",
     "checksum": "654d62de956e3600482d89dba56efa3d",
     "grade": false,
     "grade_id": "cell-c09be7e5cf4f162a",
     "locked": true,
     "schema_version": 3,
     "solution": false
    }
   },
   "source": [
    "**b)** Explain the differences between lossless and lossy compression. Name examples for both of them. Sketch application scenarios."
   ]
  },
  {
   "cell_type": "markdown",
   "id": "3e155958",
   "metadata": {
    "deletable": false,
    "nbgrader": {
     "cell_type": "markdown",
     "checksum": "d746e79f554c31b0c1f6f39607735ab8",
     "grade": true,
     "grade_id": "cell-12e5d17cb8da0bbb",
     "locked": false,
     "points": 2,
     "schema_version": 3,
     "solution": true
    },
    "solution": true
   },
   "source": [
    "YOUR ANSWER HERE"
   ]
  },
  {
   "cell_type": "markdown",
   "id": "e8f7aa1a",
   "metadata": {
    "deletable": false,
    "editable": false,
    "nbgrader": {
     "cell_type": "markdown",
     "checksum": "ce7effa3c3630ce6b809b531bf4d1e82",
     "grade": false,
     "grade_id": "cell-b41e6675c5265cc7",
     "locked": true,
     "schema_version": 3,
     "solution": false
    }
   },
   "source": [
    "## Assignment 2: Entropy based compression [8 Points]\n"
   ]
  },
  {
   "cell_type": "markdown",
   "id": "069e1f22",
   "metadata": {
    "deletable": false,
    "editable": false,
    "nbgrader": {
     "cell_type": "markdown",
     "checksum": "812f16d9f436d98a208fa99e8b6e0517",
     "grade": false,
     "grade_id": "cell-b873e13e731cb2d7",
     "locked": true,
     "schema_version": 3,
     "solution": false
    }
   },
   "source": [
    "**a)** Explain the idea of Huffman coding. What is the maximal compression factor that can be achieved for a given image? Load an image and compute that value (you may use `dolly.png` as an example. Make sure to load as 8-bit gray scale image)."
   ]
  },
  {
   "cell_type": "markdown",
   "id": "1dec769f",
   "metadata": {
    "deletable": false,
    "nbgrader": {
     "cell_type": "markdown",
     "checksum": "6a0851466cec44d43c5a9c84a7869a95",
     "grade": true,
     "grade_id": "cell-e01b9937463ce6ef",
     "locked": false,
     "points": 1,
     "schema_version": 3,
     "solution": true
    },
    "solution": true
   },
   "source": [
    "YOUR ANSWER HERE"
   ]
  },
  {
   "cell_type": "code",
   "execution_count": null,
   "id": "e0d6feb9",
   "metadata": {
    "deletable": false,
    "nbgrader": {
     "cell_type": "code",
     "checksum": "9e6c0bdb2601445ad2ba8e46e21246cf",
     "grade": true,
     "grade_id": "cell-81cfc72a8e7f4516",
     "locked": false,
     "points": 1,
     "schema_version": 3,
     "solution": true
    }
   },
   "outputs": [],
   "source": [
    "import numpy as np\n",
    "import imageio\n",
    "import matplotlib.pyplot as plt\n",
    "\n",
    "#img = imageio.imread('../images/dolly.png', pilmode='L')\n",
    "img = plt.imread('../images/dolly.png')\n",
    "\n",
    "# YOUR CODE HERE"
   ]
  },
  {
   "cell_type": "markdown",
   "id": "8f7dfa44",
   "metadata": {
    "deletable": false,
    "editable": false,
    "nbgrader": {
     "cell_type": "markdown",
     "checksum": "3d05e8b2e0db92ff9033b6b45453a664",
     "grade": false,
     "grade_id": "cell-f199e258bf6cebb2",
     "locked": true,
     "schema_version": 3,
     "solution": false
    }
   },
   "source": [
    "**b)** Now compute the relative frequencies (normalized histogram) of the image and generate an (approximately) balanced tree, as described in (CV-10 slide 6). *Hint:* you may use Python tuples as building blocks of a tree. Every non-leaf node is a pair `(left, right)` where `left` and `right` are the left and right subtrees, respectively (of course you are free to choose another approach if you prefer to do so)."
   ]
  },
  {
   "cell_type": "code",
   "execution_count": null,
   "id": "8ee49ab6",
   "metadata": {
    "deletable": false,
    "nbgrader": {
     "cell_type": "code",
     "checksum": "6e04798af5971512ccd26572483a0145",
     "grade": true,
     "grade_id": "cell-516481ae59437cd2d",
     "locked": false,
     "points": 2,
     "schema_version": 3,
     "solution": true
    }
   },
   "outputs": [],
   "source": [
    "from collections import namedtuple\n",
    "from sortedcontainers import SortedList  # conda install -c conda-forge sortedcontainers\n",
    "\n",
    "Node = namedtuple('Node', ['frequency', 'subtree'])\n",
    "\n",
    "\n",
    "# nodes is a sorted list of sub-trees, each annotated by its cummulative relative frequency,\n",
    "# i.e. each list item is a pair (frequency, subtree)\n",
    "# lowest frequencies come first\n",
    "nodes = SortedList(\n",
    "    [Node(frequency, i) for i, frequency in enumerate(normed_hist_img)],\n",
    "    key=lambda x: x.frequency)\n",
    "\n",
    "\n",
    "# YOUR CODE HERE\n",
    "print(tree)"
   ]
  },
  {
   "cell_type": "markdown",
   "id": "8999262e",
   "metadata": {
    "deletable": false,
    "editable": false,
    "nbgrader": {
     "cell_type": "markdown",
     "checksum": "ea8a920cf219b1d7b4a61922ac98fd9a",
     "grade": false,
     "grade_id": "cell-f0017a3bfc8c198b",
     "locked": true,
     "schema_version": 3,
     "solution": false
    }
   },
   "source": [
    "**c)** Now create a prefix free code from this tree, by traversing it following the idea sketched in (CV-10 slide 7). *Hint:* if you used the tuple representation recommended in (b), you can use `isinstance(node, tuple)` to check if `node` is an inner node or a leaf."
   ]
  },
  {
   "cell_type": "code",
   "execution_count": null,
   "id": "6b87754a",
   "metadata": {
    "deletable": false,
    "nbgrader": {
     "cell_type": "code",
     "checksum": "7e0d28c46c083c255787a70905389dae",
     "grade": true,
     "grade_id": "cell-4c18bcf5c721980ba",
     "locked": false,
     "points": 1,
     "schema_version": 3,
     "solution": true
    }
   },
   "outputs": [],
   "source": [
    "# initialize a list of code values\n",
    "codes = list(normed_hist_img)\n",
    "\n",
    "# function to recursively traverse the tree.\n",
    "# For every inner node assign prefix \"0\" to the left subtree\n",
    "# and prefix \"1\" to the right subtree.\n",
    "def assign_codes(codes, tree, prefix=''):\n",
    "    # YOUR CODE HERE\n",
    "\n",
    "assign_codes(codes, tree.subtree)\n",
    "print(codes)"
   ]
  },
  {
   "cell_type": "markdown",
   "id": "863a2a32",
   "metadata": {
    "deletable": false,
    "editable": false,
    "nbgrader": {
     "cell_type": "markdown",
     "checksum": "339b8d8e39dc366ab640174745f19dde",
     "grade": false,
     "grade_id": "cell-be6782bbc1933025",
     "locked": true,
     "schema_version": 3,
     "solution": false
    }
   },
   "source": [
    "**d)** Compute the compression ratio that you can achieve with that code. Compare this with the maximal value computed in part (a). Explain your observation."
   ]
  },
  {
   "cell_type": "code",
   "execution_count": null,
   "id": "a1f3b717",
   "metadata": {
    "deletable": false,
    "nbgrader": {
     "cell_type": "code",
     "checksum": "8bd2138ab57df216d794d6aaa59ca4ab",
     "grade": true,
     "grade_id": "cell-ae3307c0f07aea91",
     "locked": false,
     "points": 2,
     "schema_version": 3,
     "solution": true
    }
   },
   "outputs": [],
   "source": [
    "acc = 0\n",
    "for value, code in enumerate(codes):\n",
    "    # YOUR CODE HERE\n",
    "\n",
    "#print(\"{:.2f} bits per pixel\".format(acc))"
   ]
  },
  {
   "cell_type": "markdown",
   "id": "05a8c997",
   "metadata": {
    "deletable": false,
    "nbgrader": {
     "cell_type": "markdown",
     "checksum": "4497d781a6fb943645b406bf0d6998bd",
     "grade": true,
     "grade_id": "cell-67f20617995a24ff",
     "locked": false,
     "points": 1,
     "schema_version": 3,
     "solution": true
    },
    "solution": true
   },
   "source": [
    "YOUR ANSWER HERE"
   ]
  },
  {
   "cell_type": "markdown",
   "id": "8a0854e1",
   "metadata": {
    "deletable": false,
    "editable": false,
    "nbgrader": {
     "cell_type": "markdown",
     "checksum": "1939385cb1d04435d67a8a66e1b0dc93",
     "grade": false,
     "grade_id": "cell-a7ec0ae03a0ae285",
     "locked": true,
     "schema_version": 3,
     "solution": false
    }
   },
   "source": [
    "## Assignment 3: Run length encoding [8 Points]\n"
   ]
  },
  {
   "cell_type": "markdown",
   "id": "11a8f0e6",
   "metadata": {
    "deletable": false,
    "editable": false,
    "nbgrader": {
     "cell_type": "markdown",
     "checksum": "5aa242cd396f69a1119bfc505df61da2",
     "grade": false,
     "grade_id": "cell-415382376019ed22",
     "locked": true,
     "schema_version": 3,
     "solution": false
    }
   },
   "source": [
    "**a)** Explain the idea of *run length encoding*. What are advantages and disadvantages? In what situations should it be applied?"
   ]
  },
  {
   "cell_type": "markdown",
   "id": "64f74c24",
   "metadata": {
    "deletable": false,
    "nbgrader": {
     "cell_type": "markdown",
     "checksum": "2a7418394f74feb3a9022b7b887571f7",
     "grade": true,
     "grade_id": "cell-7ac3249713d0b868",
     "locked": false,
     "points": 2,
     "schema_version": 3,
     "solution": true
    },
    "solution": true
   },
   "source": [
    "YOUR ANSWER HERE"
   ]
  },
  {
   "cell_type": "markdown",
   "id": "ca77691b",
   "metadata": {
    "deletable": false,
    "editable": false,
    "nbgrader": {
     "cell_type": "markdown",
     "checksum": "68f99c14103f4ecaf5c251272dda7c27",
     "grade": false,
     "grade_id": "cell-e8eb7016299142a6",
     "locked": true,
     "schema_version": 3,
     "solution": false
    }
   },
   "source": [
    "**b)** Analyze the run lengths in a gray scale image (8 bit = 256 gray values) by counting the number of runs and the average run length and displaying a histogram of the run lengths. What do you observe? Can you benefit from run length encoding here? (you may use `dolly.png` as an example again, but you may also experiment with other images. Make sure to load it as 8-bit gray scale image)."
   ]
  },
  {
   "cell_type": "code",
   "execution_count": null,
   "id": "f58ae99b",
   "metadata": {
    "deletable": false,
    "nbgrader": {
     "cell_type": "code",
     "checksum": "0292a1cddd04b8796ba034c7ef197fbf",
     "grade": true,
     "grade_id": "cell-c61791fc64b45bcf",
     "locked": false,
     "points": 1,
     "schema_version": 3,
     "solution": true
    }
   },
   "outputs": [],
   "source": [
    "import numpy as np\n",
    "import imageio\n",
    "import matplotlib.pyplot as plt\n",
    "\n",
    "img = imageio.imread('images/dolly.png', pilmode='L')\n",
    "\n",
    "# YOUR CODE HERE"
   ]
  },
  {
   "cell_type": "markdown",
   "id": "98634a85",
   "metadata": {
    "deletable": false,
    "nbgrader": {
     "cell_type": "markdown",
     "checksum": "923b05a8ff6d1bfff9d9f23d86d41bd5",
     "grade": true,
     "grade_id": "cell-647dd8ad7cd04460",
     "locked": false,
     "points": 1,
     "schema_version": 3,
     "solution": true
    },
    "solution": true
   },
   "source": [
    "YOUR ANSWER HERE"
   ]
  },
  {
   "cell_type": "markdown",
   "id": "42b062ec",
   "metadata": {
    "deletable": false,
    "editable": false,
    "nbgrader": {
     "cell_type": "markdown",
     "checksum": "797b9b7a4bd7d231cc83bc9487269125",
     "grade": false,
     "grade_id": "cell-1c1500aa256b9686",
     "locked": true,
     "schema_version": 3,
     "solution": false
    }
   },
   "source": [
    "**c)** Now consider the individual bit planes. First display the bit planes as in (CV-10 slide 10ff). What do you observe? Apply your analysis from part (b) to each bitplane."
   ]
  },
  {
   "cell_type": "code",
   "execution_count": null,
   "id": "0dd48ceb",
   "metadata": {
    "deletable": false,
    "nbgrader": {
     "cell_type": "code",
     "checksum": "444057e0d98cefebaeea036c72159bf4",
     "grade": true,
     "grade_id": "cell-1decc44824d08571",
     "locked": false,
     "points": 1,
     "schema_version": 3,
     "solution": true
    }
   },
   "outputs": [],
   "source": [
    "import numpy as np\n",
    "import imageio\n",
    "import matplotlib.pyplot as plt\n",
    "\n",
    "img = imageio.imread('images/dolly.png', pilmode='L')\n",
    "\n",
    "# YOUR CODE HERE"
   ]
  },
  {
   "cell_type": "markdown",
   "id": "42220dab",
   "metadata": {
    "deletable": false,
    "nbgrader": {
     "cell_type": "markdown",
     "checksum": "7cbb4a3ee9d6b2d30b0acf274fcf0b45",
     "grade": true,
     "grade_id": "cell-ac74097966cc4cfd",
     "locked": false,
     "points": 1,
     "schema_version": 3,
     "solution": true
    },
    "solution": true
   },
   "source": [
    "YOUR ANSWER HERE"
   ]
  },
  {
   "cell_type": "markdown",
   "id": "9f4667ef",
   "metadata": {
    "deletable": false,
    "editable": false,
    "nbgrader": {
     "cell_type": "markdown",
     "checksum": "6c21f233d0d0ffeefe36a456fad68575",
     "grade": false,
     "grade_id": "cell-902776d0877d8cbf",
     "locked": true,
     "schema_version": 3,
     "solution": false
    }
   },
   "source": [
    "**d)** Explain the idea of the *Gray code*. Why is it better suited for run length encoding? Compute a Gray code for a 256 bit image and recode the image `dolly.png`. Then analyze the run lengths of the individual bit planes of the recoded image."
   ]
  },
  {
   "cell_type": "markdown",
   "id": "28aa8b52",
   "metadata": {
    "deletable": false,
    "nbgrader": {
     "cell_type": "markdown",
     "checksum": "fe349ce812e79aac007dd0e015cbb444",
     "grade": true,
     "grade_id": "cell-3aa28a8b5bfa9810",
     "locked": false,
     "points": 1,
     "schema_version": 3,
     "solution": true
    },
    "solution": true
   },
   "source": [
    "YOUR ANSWER HERE"
   ]
  },
  {
   "cell_type": "code",
   "execution_count": null,
   "id": "058e51a5",
   "metadata": {
    "deletable": false,
    "nbgrader": {
     "cell_type": "code",
     "checksum": "373f5dda43b52882cb9c0974f51e1584",
     "grade": true,
     "grade_id": "cell-3e854b9e4c5f7eb0",
     "locked": false,
     "points": 1,
     "schema_version": 3,
     "solution": true
    }
   },
   "outputs": [],
   "source": [
    "import numpy as np\n",
    "import imageio\n",
    "import matplotlib.pyplot as plt\n",
    "\n",
    "img = imageio.imread('images/dolly.png', pilmode='L')\n",
    "\n",
    "# YOUR CODE HERE"
   ]
  },
  {
   "cell_type": "markdown",
   "id": "9866a39a",
   "metadata": {
    "deletable": false,
    "editable": false,
    "nbgrader": {
     "cell_type": "markdown",
     "checksum": "2fddc7a42c5d173c6ef46fbee4b2a2ca",
     "grade": false,
     "grade_id": "cell-d9e6599459b0ba4d",
     "locked": true,
     "schema_version": 3,
     "solution": false
    }
   },
   "source": [
    "## Recap "
   ]
  },
  {
   "cell_type": "markdown",
   "id": "5b113313",
   "metadata": {
    "deletable": false,
    "editable": false,
    "nbgrader": {
     "cell_type": "markdown",
     "checksum": "db800029e5c69552099d2d467b7df7c5",
     "grade": false,
     "grade_id": "cell-917ded279d27040b",
     "locked": true,
     "schema_version": 3,
     "solution": false
    }
   },
   "source": [
    "The following part is the recap. Neither do you have to present it to your tutors nor will it count to the number of passed sheets required for the exam. I.e. you do not have to complete this sheet but we highly recomment that you solve the assignments as part of your preparations for the exam. "
   ]
  },
  {
   "cell_type": "markdown",
   "id": "860ad4d3",
   "metadata": {},
   "source": [
    "## Introduction"
   ]
  },
  {
   "cell_type": "markdown",
   "id": "d45e2358",
   "metadata": {
    "deletable": false,
    "editable": false,
    "nbgrader": {
     "cell_type": "markdown",
     "checksum": "46e1c3d4f201b50f67b6cfc07751c839",
     "grade": false,
     "grade_id": "cell-cf105a7b0946d5a3",
     "locked": true,
     "schema_version": 3,
     "solution": false
    }
   },
   "source": [
    "**a)** What are the goals of *computer vision* and *image processing*? Name some subtasks. Give one example problem and describe how to solve it with the algorithms presented in this course. "
   ]
  },
  {
   "cell_type": "markdown",
   "id": "e2e78fff",
   "metadata": {
    "deletable": false,
    "nbgrader": {
     "cell_type": "markdown",
     "checksum": "5d5e2e5afe7c9b09609a35d08a09a85f",
     "grade": true,
     "grade_id": "cell-981c95da9b28e0cb",
     "locked": false,
     "points": 0,
     "schema_version": 3,
     "solution": true
    },
    "solution": true
   },
   "source": [
    "YOUR ANSWER HERE"
   ]
  },
  {
   "cell_type": "markdown",
   "id": "d5488e4c",
   "metadata": {
    "deletable": false,
    "editable": false,
    "nbgrader": {
     "cell_type": "markdown",
     "checksum": "8e226c4bb5a23abc24cec50dc8305e07",
     "grade": false,
     "grade_id": "cell-9a9675262ebed05c",
     "locked": true,
     "schema_version": 3,
     "solution": false,
     "task": false
    }
   },
   "source": [
    "**b)** Describe the difference between *top down* and *bottom up* strategies. From another perspective they are called?"
   ]
  },
  {
   "cell_type": "markdown",
   "id": "54341299",
   "metadata": {
    "deletable": false,
    "nbgrader": {
     "cell_type": "markdown",
     "checksum": "cfc6574b51f2620009b4d38ecfbfc413",
     "grade": true,
     "grade_id": "cell-67ae38f906dffb4b",
     "locked": false,
     "points": 0,
     "schema_version": 3,
     "solution": true,
     "task": false
    }
   },
   "source": [
    "YOUR ANSWER HERE"
   ]
  },
  {
   "cell_type": "markdown",
   "id": "2287ddbe",
   "metadata": {
    "deletable": false,
    "nbgrader": {
     "cell_type": "markdown",
     "checksum": "45be50c669c979e7baa02b63eb2d811d",
     "grade": true,
     "grade_id": "cell-bcb52a6c2d6cbfa1",
     "locked": false,
     "points": 0,
     "schema_version": 3,
     "solution": true,
     "task": false
    }
   },
   "source": [
    "YOUR ANSWER HERE"
   ]
  },
  {
   "cell_type": "markdown",
   "id": "f07d2475",
   "metadata": {
    "deletable": false,
    "editable": false,
    "nbgrader": {
     "cell_type": "markdown",
     "checksum": "732db4eb328e74903cc7d3fc05b082ce",
     "grade": false,
     "grade_id": "cell-e983b33b6ab2c9bc",
     "locked": true,
     "schema_version": 3,
     "solution": false,
     "task": false
    }
   },
   "source": [
    "**c)** What is the semantic gap?"
   ]
  },
  {
   "cell_type": "markdown",
   "id": "7b030bfb",
   "metadata": {
    "deletable": false,
    "nbgrader": {
     "cell_type": "markdown",
     "checksum": "1a4dcb56b861c296a15dee55ab0e69e0",
     "grade": true,
     "grade_id": "cell-a838a5e5b650ec7f",
     "locked": false,
     "points": 0,
     "schema_version": 3,
     "solution": true,
     "task": false
    }
   },
   "source": [
    "YOUR ANSWER HERE"
   ]
  },
  {
   "cell_type": "markdown",
   "id": "9b4bd3c8",
   "metadata": {
    "deletable": false,
    "editable": false,
    "nbgrader": {
     "cell_type": "markdown",
     "checksum": "88732df1e711bb794c2875e583c5dec2",
     "grade": false,
     "grade_id": "cell-37d0783e273087db",
     "locked": true,
     "schema_version": 3,
     "solution": false
    }
   },
   "source": [
    "## Image Acquisition"
   ]
  },
  {
   "cell_type": "markdown",
   "id": "e99c0a3d",
   "metadata": {
    "deletable": false,
    "editable": false,
    "nbgrader": {
     "cell_type": "markdown",
     "checksum": "657498aa8ea4757ca05952f5826987c5",
     "grade": false,
     "grade_id": "cell-b7355fd2edf5f709",
     "locked": true,
     "schema_version": 3,
     "solution": false
    }
   },
   "source": [
    "**a)** Draw (on paper) the concept of a pinhole camera. Draw at least an object, rays, the pinhole, and the image plane."
   ]
  },
  {
   "cell_type": "markdown",
   "id": "f9ff5297",
   "metadata": {
    "deletable": false,
    "nbgrader": {
     "cell_type": "markdown",
     "checksum": "2c8a254c2f40b91f3bc8bce3b8351c73",
     "grade": true,
     "grade_id": "cell-cd296b0a201d73ec",
     "locked": false,
     "points": 0,
     "schema_version": 3,
     "solution": true
    }
   },
   "source": [
    "YOUR ANSWER HERE"
   ]
  },
  {
   "cell_type": "markdown",
   "id": "46bb4239",
   "metadata": {
    "deletable": false,
    "editable": false,
    "nbgrader": {
     "cell_type": "markdown",
     "checksum": "476f6bf46289e53e66d82147471036cc",
     "grade": false,
     "grade_id": "cell-1703b55fbd639694",
     "locked": true,
     "schema_version": 3,
     "solution": false,
     "task": false
    }
   },
   "source": [
    "**b)** Explain how human color vision works."
   ]
  },
  {
   "cell_type": "markdown",
   "id": "180b19d0",
   "metadata": {
    "deletable": false,
    "nbgrader": {
     "cell_type": "markdown",
     "checksum": "4482dd2d9b49817c9bbe06170d070d8e",
     "grade": true,
     "grade_id": "cell-653be8479ed05668",
     "locked": false,
     "points": 0,
     "schema_version": 3,
     "solution": true,
     "task": false
    }
   },
   "source": [
    "YOUR ANSWER HERE"
   ]
  },
  {
   "cell_type": "markdown",
   "id": "cad9c44d",
   "metadata": {
    "deletable": false,
    "nbgrader": {
     "cell_type": "markdown",
     "checksum": "156b22e79ca2f47231c8a6beec26135e",
     "grade": true,
     "grade_id": "cell-a09fad6b4b52ed62",
     "locked": false,
     "points": 0,
     "schema_version": 3,
     "solution": true,
     "task": false
    }
   },
   "source": [
    "YOUR ANSWER HERE"
   ]
  },
  {
   "cell_type": "markdown",
   "id": "3f5d32b3",
   "metadata": {
    "deletable": false,
    "editable": false,
    "nbgrader": {
     "cell_type": "markdown",
     "checksum": "ff1dade0d09d369cff2a141a664fe524",
     "grade": false,
     "grade_id": "cell-fccfd92b5636da36",
     "locked": true,
     "schema_version": 3,
     "solution": false,
     "task": false
    }
   },
   "source": [
    "**c)** Is a Bayer-Filter a local operator? Explain your answer!"
   ]
  },
  {
   "cell_type": "markdown",
   "id": "811f7620",
   "metadata": {
    "deletable": false,
    "nbgrader": {
     "cell_type": "markdown",
     "checksum": "8f17d5367fb0260dda501438827f53d2",
     "grade": true,
     "grade_id": "cell-ce1bb2a95756bb3c",
     "locked": false,
     "points": 0,
     "schema_version": 3,
     "solution": true,
     "task": false
    }
   },
   "source": [
    "YOUR ANSWER HERE"
   ]
  },
  {
   "cell_type": "markdown",
   "id": "72c886f0",
   "metadata": {
    "deletable": false,
    "editable": false,
    "nbgrader": {
     "cell_type": "markdown",
     "checksum": "65577ae1b51e05e4b4cd48089c829c17",
     "grade": false,
     "grade_id": "cell-126352b10a73aa23",
     "locked": true,
     "schema_version": 3,
     "solution": false,
     "task": false
    }
   },
   "source": [
    "**d)**  What is the smallest distance between two pixels under 4-/8- neighborhood?"
   ]
  },
  {
   "cell_type": "markdown",
   "id": "e73fd442",
   "metadata": {
    "deletable": false,
    "nbgrader": {
     "cell_type": "markdown",
     "checksum": "31525618c7fb2075060cd48415b0e74d",
     "grade": true,
     "grade_id": "cell-6f0e5d8f9e9c507e",
     "locked": false,
     "points": 0,
     "schema_version": 3,
     "solution": true,
     "task": false
    }
   },
   "source": [
    "YOUR ANSWER HERE"
   ]
  },
  {
   "cell_type": "markdown",
   "id": "c90a6a2f",
   "metadata": {
    "deletable": false,
    "editable": false,
    "nbgrader": {
     "cell_type": "markdown",
     "checksum": "f90f21010ac694a73a5b4606d2668dbe",
     "grade": false,
     "grade_id": "cell-c9096dca32ed1cf0",
     "locked": true,
     "schema_version": 3,
     "solution": false
    }
   },
   "source": [
    "**b)** Name the two types of loss of information and give an example for each."
   ]
  },
  {
   "cell_type": "markdown",
   "id": "64fe491c",
   "metadata": {
    "deletable": false,
    "nbgrader": {
     "cell_type": "markdown",
     "checksum": "4c2a95295433ec7b0d2fdde5104656cb",
     "grade": true,
     "grade_id": "cell-9d87ecab01da1ef8",
     "locked": false,
     "points": 0,
     "schema_version": 3,
     "solution": true
    }
   },
   "source": [
    "YOUR ANSWER HERE"
   ]
  },
  {
   "cell_type": "markdown",
   "id": "554f0a08",
   "metadata": {
    "deletable": false,
    "editable": false,
    "nbgrader": {
     "cell_type": "markdown",
     "checksum": "1479f0ec237ce559e224ff1743afc853",
     "grade": false,
     "grade_id": "cell-6d84b6e4de4fd660",
     "locked": true,
     "schema_version": 3,
     "solution": false
    }
   },
   "source": [
    "## Basic Operators"
   ]
  },
  {
   "cell_type": "markdown",
   "id": "fee997d9",
   "metadata": {
    "deletable": false,
    "editable": false,
    "nbgrader": {
     "cell_type": "markdown",
     "checksum": "21a3b2e78227337dbf04d79a13fb6351",
     "grade": false,
     "grade_id": "cell-34f94d134a296642",
     "locked": true,
     "schema_version": 3,
     "solution": false
    }
   },
   "source": [
    "**a)** What is a *point operator*, a *local operator*, a *global operator*? Provide examples for each of them. Which are *linear* which are not? Give an example for a *non-homogenous* operator. Describe application scenarios for different operators. What is a *rank filter*?"
   ]
  },
  {
   "cell_type": "markdown",
   "id": "67836ae2",
   "metadata": {
    "deletable": false,
    "nbgrader": {
     "cell_type": "markdown",
     "checksum": "5eb3769833eead0396b6d99620dea584",
     "grade": true,
     "grade_id": "cell-3d2c26876b96142e",
     "locked": false,
     "points": 0,
     "schema_version": 3,
     "solution": true
    },
    "solution": true
   },
   "source": [
    "YOUR ANSWER HERE"
   ]
  },
  {
   "cell_type": "markdown",
   "id": "3228f1da",
   "metadata": {
    "deletable": false,
    "editable": false,
    "nbgrader": {
     "cell_type": "markdown",
     "checksum": "15456799b1386d372b08f0ba12b6dc04",
     "grade": false,
     "grade_id": "cell-0c6d98ee6c0ededf",
     "locked": true,
     "schema_version": 3,
     "solution": false
    }
   },
   "source": [
    "**b)** Load an image and apply different local operators (convolution, nonlinear smoothing, morphological) and display the results. Explain their effects and possible applications."
   ]
  },
  {
   "cell_type": "code",
   "execution_count": null,
   "id": "fce421f1",
   "metadata": {
    "deletable": false,
    "nbgrader": {
     "cell_type": "code",
     "checksum": "3451bcd3d69d20fb7c0c4f7244f2be12",
     "grade": true,
     "grade_id": "cell-e6bb5f892904ac23",
     "locked": false,
     "points": 0,
     "schema_version": 3,
     "solution": true
    }
   },
   "outputs": [],
   "source": [
    "%matplotlib inline\n",
    "from skimage import filters, morphology\n",
    "import matplotlib.pyplot as plt\n",
    "import numpy as np\n",
    "\n",
    "img = plt.imread('images/dolly.png')\n",
    "img = np.uint8(img * 255)\n",
    "\n",
    "plt.imshow(img, cmap='gray')\n",
    "plt.title('Original image')\n",
    "plt.show()\n",
    "\n",
    "# YOUR CODE HERE\n"
   ]
  },
  {
   "cell_type": "markdown",
   "id": "1cf53586",
   "metadata": {
    "deletable": false,
    "nbgrader": {
     "cell_type": "markdown",
     "checksum": "fcbdd31faa85d6cb8a30301a30ba0f55",
     "grade": true,
     "grade_id": "cell-af283fbda9c16aba",
     "locked": false,
     "points": 0,
     "schema_version": 3,
     "solution": true
    },
    "solution": true
   },
   "source": [
    "YOUR ANSWER HERE"
   ]
  },
  {
   "cell_type": "markdown",
   "id": "7643bd35",
   "metadata": {
    "deletable": false,
    "editable": false,
    "nbgrader": {
     "cell_type": "markdown",
     "checksum": "64650978b2d4ab9174fe62436d4db5dc",
     "grade": false,
     "grade_id": "cell-664ef6f4776a3841",
     "locked": true,
     "schema_version": 3,
     "solution": false,
     "task": false
    }
   },
   "source": [
    "**c)**\n",
    "With pen and paper: Generate a random  $5 \\times 5$ image and smooth this image by a $3 \\times 3$ laplace filter. Select a border handling mode of your choice."
   ]
  },
  {
   "cell_type": "markdown",
   "id": "a9cd9a94",
   "metadata": {
    "deletable": false,
    "nbgrader": {
     "cell_type": "markdown",
     "checksum": "b13e8cbeb6fa2e5c3e4156d138132542",
     "grade": true,
     "grade_id": "cell-da90a4806cb84865",
     "locked": false,
     "points": 0,
     "schema_version": 3,
     "solution": true,
     "task": false
    }
   },
   "source": [
    "YOUR ANSWER HERE"
   ]
  },
  {
   "cell_type": "markdown",
   "id": "1d7e5250",
   "metadata": {
    "deletable": false,
    "editable": false,
    "nbgrader": {
     "cell_type": "markdown",
     "checksum": "0a2278f2eef1cbeecb3bab990484b14c",
     "grade": false,
     "grade_id": "cell-8245a3a223ddeb29",
     "locked": true,
     "schema_version": 3,
     "solution": false,
     "task": false
    }
   },
   "source": [
    "**d)** Give an example $3\\times3$ kernel for the following filters and briefly explain their use:\n",
    "* Box\n",
    "* Binomial\n",
    "* Sobel (one direction of your choice)\n",
    "* Laplace"
   ]
  },
  {
   "cell_type": "markdown",
   "id": "ed9b4bca",
   "metadata": {
    "deletable": false,
    "nbgrader": {
     "cell_type": "markdown",
     "checksum": "785356241ecc60f56723f0a4c54fa70b",
     "grade": true,
     "grade_id": "cell-b6b155547f7deec2",
     "locked": false,
     "points": 0,
     "schema_version": 3,
     "solution": true,
     "task": false
    }
   },
   "source": [
    "YOUR ANSWER HERE"
   ]
  },
  {
   "cell_type": "markdown",
   "id": "ede85113",
   "metadata": {
    "deletable": false,
    "editable": false,
    "nbgrader": {
     "cell_type": "markdown",
     "checksum": "fbf6cf2fe3566a959a9e2899ec8173bb",
     "grade": false,
     "grade_id": "cell-5fc6bfdddcafb687",
     "locked": true,
     "schema_version": 3,
     "solution": false,
     "task": false
    }
   },
   "source": [
    "**e)** What are separable filter kernels?"
   ]
  },
  {
   "cell_type": "markdown",
   "id": "c0c4183f",
   "metadata": {
    "deletable": false,
    "nbgrader": {
     "cell_type": "markdown",
     "checksum": "b6d897d6fc5fb2f9e9dc459c51a93e69",
     "grade": true,
     "grade_id": "cell-f560b5c81610d0d7",
     "locked": false,
     "points": 0,
     "schema_version": 3,
     "solution": true,
     "task": false
    }
   },
   "source": [
    "YOUR ANSWER HERE"
   ]
  },
  {
   "cell_type": "markdown",
   "id": "2278412a",
   "metadata": {
    "deletable": false,
    "editable": false,
    "nbgrader": {
     "cell_type": "markdown",
     "checksum": "f4eb3ca7eedc89cf777ee5a0d9923c3d",
     "grade": false,
     "grade_id": "cell-0950af9dd4a0ca1a",
     "locked": true,
     "schema_version": 3,
     "solution": false
    }
   },
   "source": [
    "## Image Enhancement"
   ]
  },
  {
   "cell_type": "markdown",
   "id": "84ab3215",
   "metadata": {
    "deletable": false,
    "editable": false,
    "nbgrader": {
     "cell_type": "markdown",
     "checksum": "30e6d7c8ab1bcd51a63f5944c26181dc",
     "grade": false,
     "grade_id": "cell-7b4bae6d11f700f2",
     "locked": true,
     "schema_version": 3,
     "solution": false
    }
   },
   "source": [
    "**a)**  What is the histogram of an image? What is a gradient image and how is it computed? What is a histogram of gradients? Name some applications."
   ]
  },
  {
   "cell_type": "markdown",
   "id": "8bc04fcf",
   "metadata": {
    "deletable": false,
    "nbgrader": {
     "cell_type": "markdown",
     "checksum": "201dc32da2a4a598d3a38285073c5888",
     "grade": true,
     "grade_id": "cell-74912d2eceb911a4",
     "locked": false,
     "points": 0,
     "schema_version": 3,
     "solution": true
    },
    "solution": true
   },
   "source": [
    "YOUR ANSWER HERE"
   ]
  },
  {
   "cell_type": "markdown",
   "id": "390f7488",
   "metadata": {
    "deletable": false,
    "nbgrader": {
     "cell_type": "markdown",
     "checksum": "21c96f902e9332048576afbaa8c19d66",
     "grade": true,
     "grade_id": "cell-10d84015da398862",
     "locked": false,
     "points": 0,
     "schema_version": 3,
     "solution": true,
     "task": false
    }
   },
   "source": [
    "YOUR ANSWER HERE"
   ]
  },
  {
   "cell_type": "markdown",
   "id": "d6345ad7",
   "metadata": {
    "deletable": false,
    "editable": false,
    "nbgrader": {
     "cell_type": "markdown",
     "checksum": "f38e6ecaec9ae193d20e5c2a71d59ddb",
     "grade": false,
     "grade_id": "cell-08a4b0b6834a4f08",
     "locked": true,
     "schema_version": 3,
     "solution": false
    }
   },
   "source": [
    "**b)** Give formulae for information content and average information content. What do information content and entropy measure? On the slides $\\log_n$ is used for information content and $\\log_2$ is used for entropy. Why?"
   ]
  },
  {
   "cell_type": "markdown",
   "id": "37a435c4",
   "metadata": {
    "deletable": false,
    "nbgrader": {
     "cell_type": "markdown",
     "checksum": "17712dc185828789b4a46e58fc60bdd4",
     "grade": true,
     "grade_id": "cell-5663863917e695cb",
     "locked": false,
     "points": 0,
     "schema_version": 3,
     "solution": true
    }
   },
   "source": [
    "YOUR ANSWER HERE"
   ]
  },
  {
   "cell_type": "markdown",
   "id": "3eb29608",
   "metadata": {
    "deletable": false,
    "editable": false,
    "nbgrader": {
     "cell_type": "markdown",
     "checksum": "45280fc27796309416338818dc4d6a6a",
     "grade": false,
     "grade_id": "cell-47c2a4e75b927e20",
     "locked": true,
     "schema_version": 3,
     "solution": false,
     "task": false
    }
   },
   "source": [
    "**c)** Discuss histogram equalization. Name some problems and explain how they can be addressed."
   ]
  },
  {
   "cell_type": "markdown",
   "id": "e70f4f62",
   "metadata": {
    "deletable": false,
    "nbgrader": {
     "cell_type": "markdown",
     "checksum": "5361bc1d68bf085ae14d10941b612e6c",
     "grade": true,
     "grade_id": "cell-91dc16c7b7371d5d",
     "locked": false,
     "points": 0,
     "schema_version": 3,
     "solution": true,
     "task": false
    }
   },
   "source": [
    "YOUR ANSWER HERE"
   ]
  },
  {
   "cell_type": "markdown",
   "id": "9129e6ac",
   "metadata": {
    "deletable": false,
    "nbgrader": {
     "cell_type": "markdown",
     "checksum": "31864902e29bfb1672e14366afb9449e",
     "grade": true,
     "grade_id": "cell-cdb2201a0f3314ff",
     "locked": false,
     "points": 0,
     "schema_version": 3,
     "solution": true,
     "task": false
    }
   },
   "source": [
    "YOUR ANSWER HERE"
   ]
  },
  {
   "cell_type": "markdown",
   "id": "86895e21",
   "metadata": {
    "deletable": false,
    "editable": false,
    "nbgrader": {
     "cell_type": "markdown",
     "checksum": "0e01a786a94d1f225d7e52102e3eaceb",
     "grade": false,
     "grade_id": "cell-68f5fc93fc33cf4d",
     "locked": true,
     "schema_version": 3,
     "solution": false,
     "task": false
    }
   },
   "source": [
    "## Morphological operators"
   ]
  },
  {
   "cell_type": "markdown",
   "id": "4c2991ae",
   "metadata": {
    "deletable": false,
    "editable": false,
    "nbgrader": {
     "cell_type": "markdown",
     "checksum": "7a272d42d880400db55982bcf141f072",
     "grade": false,
     "grade_id": "cell-4f367bf552281c08",
     "locked": true,
     "schema_version": 3,
     "solution": false,
     "task": false
    }
   },
   "source": [
    "**a)** What is a structuring element? How is it applied in erosion and dilation?"
   ]
  },
  {
   "cell_type": "markdown",
   "id": "9ceb1151",
   "metadata": {
    "deletable": false,
    "nbgrader": {
     "cell_type": "markdown",
     "checksum": "10072f1c6bf76a62b34641a95d6676fc",
     "grade": true,
     "grade_id": "cell-da5d3fe984177324",
     "locked": false,
     "points": 0,
     "schema_version": 3,
     "solution": true,
     "task": false
    }
   },
   "source": [
    "YOUR ANSWER HERE"
   ]
  },
  {
   "cell_type": "markdown",
   "id": "c0ac7cc2",
   "metadata": {
    "deletable": false,
    "editable": false,
    "nbgrader": {
     "cell_type": "markdown",
     "checksum": "900a792d3a253cdbfe693b460fd95e60",
     "grade": false,
     "grade_id": "cell-fc1713bbf0ef3b76",
     "locked": true,
     "schema_version": 3,
     "solution": false,
     "task": false
    }
   },
   "source": [
    "**b)** Give pseudocode for the distance transform using morphological operators"
   ]
  },
  {
   "cell_type": "markdown",
   "id": "44ad3f77",
   "metadata": {
    "deletable": false,
    "nbgrader": {
     "cell_type": "markdown",
     "checksum": "adbdab9e94003294739d6ba16aed2343",
     "grade": true,
     "grade_id": "cell-d929678b78d7912d",
     "locked": false,
     "points": 0,
     "schema_version": 3,
     "solution": true,
     "task": false
    }
   },
   "source": [
    "YOUR ANSWER HERE"
   ]
  },
  {
   "cell_type": "markdown",
   "id": "9c49ae8e",
   "metadata": {
    "deletable": false,
    "editable": false,
    "nbgrader": {
     "cell_type": "markdown",
     "checksum": "08b03941202812effaeaa996b50e41d4",
     "grade": false,
     "grade_id": "cell-bb3d97b79ce3c32c",
     "locked": true,
     "schema_version": 3,
     "solution": false
    }
   },
   "source": [
    "## Color"
   ]
  },
  {
   "cell_type": "markdown",
   "id": "b8075508",
   "metadata": {
    "deletable": false,
    "editable": false,
    "nbgrader": {
     "cell_type": "markdown",
     "checksum": "2841c6e4f4fad9ee515203a0f9684e68",
     "grade": false,
     "grade_id": "cell-3761c09a73f38e51",
     "locked": true,
     "schema_version": 3,
     "solution": false
    }
   },
   "source": [
    "**a)** Which of the follwoing use additive color mixing and which use subtractive color mixing:\n",
    "* Printer\n",
    "* Cathode ray tub (Old screens)\n",
    "* LCD Screen\n",
    "* Van Googh\n",
    "* Analog Cinema Projector\n",
    "* Digital Projector (DLP)"
   ]
  },
  {
   "cell_type": "markdown",
   "id": "081c73a2",
   "metadata": {
    "deletable": false,
    "nbgrader": {
     "cell_type": "markdown",
     "checksum": "b101183223d035130375a6849db41b9d",
     "grade": true,
     "grade_id": "cell-cbe612595209d517",
     "locked": false,
     "points": 0,
     "schema_version": 3,
     "solution": true
    }
   },
   "source": [
    "YOUR ANSWER HERE"
   ]
  },
  {
   "cell_type": "markdown",
   "id": "4744b115",
   "metadata": {
    "deletable": false,
    "editable": false,
    "nbgrader": {
     "cell_type": "markdown",
     "checksum": "8e3c25113e146776c34bd45c35ecd912",
     "grade": false,
     "grade_id": "cell-437bfb22b0953472",
     "locked": true,
     "schema_version": 3,
     "solution": false
    }
   },
   "source": [
    "**b)** Name two color spaces and list their advantages."
   ]
  },
  {
   "cell_type": "markdown",
   "id": "f4545fbe",
   "metadata": {
    "deletable": false,
    "nbgrader": {
     "cell_type": "markdown",
     "checksum": "8820f89d8e53d435ae6825b23eb2830f",
     "grade": true,
     "grade_id": "cell-ee5a11a5f9a6e97c",
     "locked": false,
     "points": 0,
     "schema_version": 3,
     "solution": true
    }
   },
   "source": [
    "YOUR ANSWER HERE"
   ]
  },
  {
   "cell_type": "markdown",
   "id": "d5bba114",
   "metadata": {
    "deletable": false,
    "editable": false,
    "nbgrader": {
     "cell_type": "markdown",
     "checksum": "ec888b9f995d3b6dd96e4f4eb981df13",
     "grade": false,
     "grade_id": "cell-c06d6b2ac8b2332a",
     "locked": true,
     "schema_version": 3,
     "solution": false
    }
   },
   "source": [
    "## Segmentation"
   ]
  },
  {
   "cell_type": "markdown",
   "id": "708a65fb",
   "metadata": {
    "deletable": false,
    "editable": false,
    "nbgrader": {
     "cell_type": "markdown",
     "checksum": "17d4901a73217149bc47e7d81c5a1ef2",
     "grade": false,
     "grade_id": "cell-74bc7e2ff33d48ee",
     "locked": true,
     "schema_version": 3,
     "solution": false
    }
   },
   "source": [
    "**a)** Explain *region based* and *edged based* *segmentation*. What are the differences between *split and merge* and *region merging*? What is the idea of *color segmentation* and does it give any advantage?"
   ]
  },
  {
   "cell_type": "markdown",
   "id": "59abdd03",
   "metadata": {
    "deletable": false,
    "nbgrader": {
     "cell_type": "markdown",
     "checksum": "caeac0e23beaa3cf5373194bd6bd534d",
     "grade": true,
     "grade_id": "cell-b505cd1e5ca22b5e",
     "locked": false,
     "points": 0,
     "schema_version": 3,
     "solution": true
    },
    "solution": true
   },
   "source": [
    "YOUR ANSWER HERE"
   ]
  },
  {
   "cell_type": "markdown",
   "id": "681e5c1a",
   "metadata": {
    "deletable": false,
    "nbgrader": {
     "cell_type": "markdown",
     "checksum": "54130a470cebe33772eb47701ce72a79",
     "grade": true,
     "grade_id": "cell-18d22fd9f94faac0",
     "locked": false,
     "points": 0,
     "schema_version": 3,
     "solution": true,
     "task": false
    }
   },
   "source": [
    "YOUR ANSWER HERE"
   ]
  },
  {
   "cell_type": "markdown",
   "id": "ee71cb1f",
   "metadata": {
    "deletable": false,
    "nbgrader": {
     "cell_type": "markdown",
     "checksum": "38c97d5010832851f3c98cfe9896fa95",
     "grade": true,
     "grade_id": "cell-851ef4004789ba8c",
     "locked": false,
     "points": 0,
     "schema_version": 3,
     "solution": true,
     "task": false
    }
   },
   "source": [
    "YOUR ANSWER HERE"
   ]
  },
  {
   "cell_type": "markdown",
   "id": "54f2b302",
   "metadata": {
    "deletable": false,
    "editable": false,
    "nbgrader": {
     "cell_type": "markdown",
     "checksum": "4750e4eda83d257aee3a5ffb45f22b87",
     "grade": false,
     "grade_id": "cell-d3af45d1f9eef2e5",
     "locked": true,
     "schema_version": 3,
     "solution": false,
     "task": false
    }
   },
   "source": [
    "**b)**  Provide pseudocode for the $k$-means clustering algorithm in color space."
   ]
  },
  {
   "cell_type": "markdown",
   "id": "79dbaa02",
   "metadata": {
    "deletable": false,
    "nbgrader": {
     "cell_type": "markdown",
     "checksum": "d71fdac1cc911ba50e7beafdab61b69c",
     "grade": true,
     "grade_id": "cell-1be957ca47d5e89d",
     "locked": false,
     "points": 0,
     "schema_version": 3,
     "solution": true,
     "task": false
    }
   },
   "source": [
    "YOUR ANSWER HERE"
   ]
  },
  {
   "cell_type": "markdown",
   "id": "8f440b36",
   "metadata": {
    "deletable": false,
    "editable": false,
    "nbgrader": {
     "cell_type": "markdown",
     "checksum": "09b13f36516a04ca444293afb093446b",
     "grade": false,
     "grade_id": "cell-b72144ad66f6a645",
     "locked": true,
     "schema_version": 3,
     "solution": false,
     "task": false
    }
   },
   "source": [
    "**c)** Give two examples for interactive segmentation and discuss them."
   ]
  },
  {
   "cell_type": "markdown",
   "id": "ef6ffc19",
   "metadata": {
    "deletable": false,
    "nbgrader": {
     "cell_type": "markdown",
     "checksum": "6664bb730ea023f244b2fbb2e8f33ca4",
     "grade": true,
     "grade_id": "cell-904df331122ecae0",
     "locked": false,
     "points": 0,
     "schema_version": 3,
     "solution": true,
     "task": false
    }
   },
   "source": [
    "YOUR ANSWER HERE"
   ]
  },
  {
   "cell_type": "markdown",
   "id": "4fec73e5",
   "metadata": {
    "deletable": false,
    "nbgrader": {
     "cell_type": "markdown",
     "checksum": "e0fe77ec2cb5c6b0d892bd9aae4d6179",
     "grade": true,
     "grade_id": "cell-73e9cde722816f6f",
     "locked": false,
     "points": 0,
     "schema_version": 3,
     "solution": true,
     "task": false
    }
   },
   "source": [
    "YOUR ANSWER HERE"
   ]
  },
  {
   "cell_type": "markdown",
   "id": "8b02abd2",
   "metadata": {
    "deletable": false,
    "nbgrader": {
     "cell_type": "markdown",
     "checksum": "1b46cff49099df0531106c410d373118",
     "grade": true,
     "grade_id": "cell-f495ae2e7759dd8a",
     "locked": false,
     "points": 0,
     "schema_version": 3,
     "solution": true,
     "task": false
    }
   },
   "source": [
    "YOUR ANSWER HERE"
   ]
  },
  {
   "cell_type": "markdown",
   "id": "054fe683",
   "metadata": {
    "deletable": false,
    "nbgrader": {
     "cell_type": "markdown",
     "checksum": "c1b24fb920417f57db479aafc36e08ad",
     "grade": true,
     "grade_id": "cell-eae818551a2f8a20",
     "locked": false,
     "points": 0,
     "schema_version": 3,
     "solution": true,
     "task": false
    }
   },
   "source": [
    "YOUR ANSWER HERE"
   ]
  },
  {
   "cell_type": "markdown",
   "id": "620b0c47",
   "metadata": {
    "deletable": false,
    "editable": false,
    "nbgrader": {
     "cell_type": "markdown",
     "checksum": "d99bdf88833f1d137d4fa996d3f25b63",
     "grade": false,
     "grade_id": "cell-c06d6b2ac8b2332g",
     "locked": true,
     "schema_version": 3,
     "solution": false
    }
   },
   "source": [
    "## Hough Transform"
   ]
  },
  {
   "cell_type": "markdown",
   "id": "f594767f",
   "metadata": {
    "deletable": false,
    "editable": false,
    "nbgrader": {
     "cell_type": "markdown",
     "checksum": "0a477013829b015d929e5568e96c952b",
     "grade": false,
     "grade_id": "cell-858a0894cc7e02c0",
     "locked": true,
     "schema_version": 3,
     "solution": false
    }
   },
   "source": [
    "**a)** What is the idea of *Hough transform*? What is an *accumulator space*? How to determine its dimensionality? Can you interpret the linear Hough space? How many dimensions has the accumulator space for circular Hough transform?"
   ]
  },
  {
   "cell_type": "markdown",
   "id": "45d9ca37",
   "metadata": {
    "deletable": false,
    "nbgrader": {
     "cell_type": "markdown",
     "checksum": "dde0882674d75216ad357c95fb41d107",
     "grade": true,
     "grade_id": "cell-016a8ede5313ac89",
     "locked": false,
     "points": 0,
     "schema_version": 3,
     "solution": true
    },
    "solution": true
   },
   "source": [
    "YOUR ANSWER HERE"
   ]
  },
  {
   "cell_type": "markdown",
   "id": "957fad85",
   "metadata": {
    "deletable": false,
    "editable": false,
    "nbgrader": {
     "cell_type": "markdown",
     "checksum": "78c60a7b4f68784e5cc3ba50616e6770",
     "grade": false,
     "grade_id": "cell-fourier",
     "locked": true,
     "schema_version": 3,
     "solution": false
    }
   },
   "source": [
    "## Fourier Transform"
   ]
  },
  {
   "cell_type": "markdown",
   "id": "563ecaac",
   "metadata": {
    "deletable": false,
    "editable": false,
    "nbgrader": {
     "cell_type": "markdown",
     "checksum": "f8e98712c9e4cb3472ba19abdd6759a9",
     "grade": false,
     "grade_id": "cell-fourier-a",
     "locked": true,
     "schema_version": 3,
     "solution": false
    }
   },
   "source": [
    "**a)** What is the idea of *Fourier Transform*, and why is it useful for image processing? Can you provide a formula? Why is it called an orthogonal transformation? Which aspects of an image can be recognized in its Fourier transform?"
   ]
  },
  {
   "cell_type": "markdown",
   "id": "b249221c",
   "metadata": {
    "deletable": false,
    "nbgrader": {
     "cell_type": "markdown",
     "checksum": "cf7730b4ad7235699d3c1c0fb860f76f",
     "grade": true,
     "grade_id": "cell-fourier-a-solution",
     "locked": false,
     "points": 0,
     "schema_version": 3,
     "solution": true
    },
    "solution": true
   },
   "source": [
    "YOUR ANSWER HERE"
   ]
  },
  {
   "cell_type": "markdown",
   "id": "d41f0412",
   "metadata": {
    "deletable": false,
    "editable": false,
    "nbgrader": {
     "cell_type": "markdown",
     "checksum": "a6ddd73099e844bef15b7c4f60a63a39",
     "grade": false,
     "grade_id": "cell-temp-match",
     "locked": true,
     "schema_version": 3,
     "solution": false
    }
   },
   "source": [
    "## Template Matching"
   ]
  },
  {
   "cell_type": "markdown",
   "id": "36383956",
   "metadata": {
    "deletable": false,
    "editable": false,
    "nbgrader": {
     "cell_type": "markdown",
     "checksum": "a02667c463b62388f96b856a270f6efa",
     "grade": false,
     "grade_id": "cell-temp-match-a",
     "locked": true,
     "schema_version": 3,
     "solution": false
    }
   },
   "source": [
    "**a)** Explain the principle of template matching."
   ]
  },
  {
   "cell_type": "markdown",
   "id": "d9603b0c",
   "metadata": {
    "deletable": false,
    "nbgrader": {
     "cell_type": "markdown",
     "checksum": "34bd59c71592a01734d316a8911051c6",
     "grade": true,
     "grade_id": "cell-temp-match-a-sol",
     "locked": false,
     "points": 0,
     "schema_version": 3,
     "solution": true
    }
   },
   "source": [
    "YOUR ANSWER HERE"
   ]
  },
  {
   "cell_type": "markdown",
   "id": "f5d19970",
   "metadata": {
    "deletable": false,
    "editable": false,
    "nbgrader": {
     "cell_type": "markdown",
     "checksum": "3ff9b30b4a9f96512a4e858fa929ecff",
     "grade": false,
     "grade_id": "cell-temp-match-b",
     "locked": true,
     "schema_version": 3,
     "solution": false
    }
   },
   "source": [
    "**b)** When and why does the correlation coefficient perform better than the mean absolute distance?"
   ]
  },
  {
   "cell_type": "markdown",
   "id": "cb6f4df9",
   "metadata": {
    "deletable": false,
    "nbgrader": {
     "cell_type": "markdown",
     "checksum": "cd610443e13243ca8c04ba18c6595c7c",
     "grade": true,
     "grade_id": "cell-temp-match-b-sol",
     "locked": false,
     "points": 0,
     "schema_version": 3,
     "solution": true
    }
   },
   "source": [
    "YOUR ANSWER HERE"
   ]
  },
  {
   "cell_type": "markdown",
   "id": "27b5b554",
   "metadata": {
    "deletable": false,
    "editable": false,
    "nbgrader": {
     "cell_type": "markdown",
     "checksum": "ed324a53e33992f405f92b9d67aae4a8",
     "grade": false,
     "grade_id": "cell-pattern",
     "locked": true,
     "schema_version": 3,
     "solution": false
    }
   },
   "source": [
    "## Pattern Recognition"
   ]
  },
  {
   "cell_type": "markdown",
   "id": "6b6084db",
   "metadata": {
    "deletable": false,
    "editable": false,
    "nbgrader": {
     "cell_type": "markdown",
     "checksum": "6978c004dbf0b001dfdac888412bf75f",
     "grade": false,
     "grade_id": "cell-pattern-a",
     "locked": true,
     "schema_version": 3,
     "solution": false
    }
   },
   "source": [
    "**a)** What are the principle components of a 2-dimensional data distribution. What are the principle components when of an image?"
   ]
  },
  {
   "cell_type": "markdown",
   "id": "94e5915c",
   "metadata": {
    "deletable": false,
    "nbgrader": {
     "cell_type": "markdown",
     "checksum": "661c8c98e829bc8bbd1dd77ba2213902",
     "grade": true,
     "grade_id": "cell-pattern-a-sol",
     "locked": false,
     "points": 0,
     "schema_version": 3,
     "solution": true
    }
   },
   "source": [
    "YOUR ANSWER HERE"
   ]
  },
  {
   "cell_type": "markdown",
   "id": "3b85c57b",
   "metadata": {
    "deletable": false,
    "editable": false,
    "nbgrader": {
     "cell_type": "markdown",
     "checksum": "1f1b98f4d16e79b41722b222f357c228",
     "grade": false,
     "grade_id": "cell-local",
     "locked": true,
     "schema_version": 3,
     "solution": false
    }
   },
   "source": [
    "## Local Features"
   ]
  },
  {
   "cell_type": "markdown",
   "id": "25cd5a92",
   "metadata": {
    "deletable": false,
    "editable": false,
    "nbgrader": {
     "cell_type": "markdown",
     "checksum": "a6e77e1e6345eca0cbc020c934a6a8f2",
     "grade": false,
     "grade_id": "cell-local-a",
     "locked": true,
     "schema_version": 3,
     "solution": false
    }
   },
   "source": [
    "**a)** Describe the *Moravec* and the *Harris corner detectors*. What are the differences?"
   ]
  },
  {
   "cell_type": "markdown",
   "id": "9e294903",
   "metadata": {
    "deletable": false,
    "nbgrader": {
     "cell_type": "markdown",
     "checksum": "882ffb6dd7489cf925a1271d71b321d6",
     "grade": true,
     "grade_id": "cell-local-a-sol",
     "locked": false,
     "points": 0,
     "schema_version": 3,
     "solution": true
    },
    "solution": true
   },
   "source": [
    "YOUR ANSWER HERE"
   ]
  },
  {
   "cell_type": "markdown",
   "id": "4a39a349",
   "metadata": {
    "deletable": false,
    "editable": false,
    "nbgrader": {
     "cell_type": "markdown",
     "checksum": "41fc26091b4d2e523e79fd76687eff66",
     "grade": false,
     "grade_id": "cell-local-b",
     "locked": true,
     "schema_version": 3,
     "solution": false
    }
   },
   "source": [
    "**b)** What are *local features* and what are they used for? Name some examples? Describe the main steps of SIFT and explain how invariances of the features are achieved."
   ]
  },
  {
   "cell_type": "markdown",
   "id": "6bd3e9a9",
   "metadata": {
    "deletable": false,
    "nbgrader": {
     "cell_type": "markdown",
     "checksum": "005d10c08b405826d32d11f9a2f2e9f4",
     "grade": true,
     "grade_id": "cell-local-b-sol",
     "locked": false,
     "points": 0,
     "schema_version": 3,
     "solution": true
    },
    "solution": true
   },
   "source": [
    "YOUR ANSWER HERE"
   ]
  },
  {
   "cell_type": "markdown",
   "id": "e11dd5d6",
   "metadata": {
    "deletable": false,
    "editable": false,
    "nbgrader": {
     "cell_type": "markdown",
     "checksum": "0f8ceb0e9be92951bbf59dda58224244",
     "grade": false,
     "grade_id": "cell-recap-compression",
     "locked": true,
     "schema_version": 3,
     "solution": false
    }
   },
   "source": [
    "## Compression"
   ]
  },
  {
   "cell_type": "markdown",
   "id": "692fcffd",
   "metadata": {
    "deletable": false,
    "editable": false,
    "nbgrader": {
     "cell_type": "markdown",
     "checksum": "ee7124a43a178fbe52dd4eed3bda9675",
     "grade": false,
     "grade_id": "cell-recap-huffmana",
     "locked": true,
     "schema_version": 3,
     "solution": false,
     "task": false
    }
   },
   "source": [
    "**a)** How does Huffman-Coding work?"
   ]
  },
  {
   "cell_type": "markdown",
   "id": "e066d87d",
   "metadata": {
    "deletable": false,
    "nbgrader": {
     "cell_type": "markdown",
     "checksum": "55361151d9c8c9b43a133ab1be753d91",
     "grade": true,
     "grade_id": "cell-recap-huffmanasolution",
     "locked": false,
     "points": 0,
     "schema_version": 3,
     "solution": true,
     "task": false
    }
   },
   "source": [
    "YOUR ANSWER HERE"
   ]
  },
  {
   "cell_type": "markdown",
   "id": "6f44eee0",
   "metadata": {
    "deletable": false,
    "editable": false,
    "nbgrader": {
     "cell_type": "markdown",
     "checksum": "e53f6b4f53e555ca9745ba76fb3aed94",
     "grade": false,
     "grade_id": "cell-recap-huffmanb",
     "locked": true,
     "schema_version": 3,
     "solution": false,
     "task": false
    }
   },
   "source": [
    "**b)** What is the Gray code and what is its relation to run length encoding?"
   ]
  },
  {
   "cell_type": "markdown",
   "id": "d343bca4",
   "metadata": {
    "deletable": false,
    "nbgrader": {
     "cell_type": "markdown",
     "checksum": "24b6dad8652af534e041e2c465c0a4a7",
     "grade": true,
     "grade_id": "cell-recap-huffmanbsolution",
     "locked": false,
     "points": 0,
     "schema_version": 3,
     "solution": true,
     "task": false
    }
   },
   "source": [
    "YOUR ANSWER HERE"
   ]
  }
 ],
 "metadata": {
  "kernelspec": {
   "display_name": "Python 3 (ipykernel)",
   "language": "python",
   "name": "python3"
  },
  "language_info": {
   "codemirror_mode": {
    "name": "ipython",
    "version": 3
   },
   "file_extension": ".py",
   "mimetype": "text/x-python",
   "name": "python",
   "nbconvert_exporter": "python",
   "pygments_lexer": "ipython3",
   "version": "3.9.7"
  }
 },
 "nbformat": 4,
 "nbformat_minor": 5
}
