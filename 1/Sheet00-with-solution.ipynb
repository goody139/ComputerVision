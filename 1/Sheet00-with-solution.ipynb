{
 "cells": [
  {
   "cell_type": "markdown",
   "id": "13fe5347",
   "metadata": {
    "nbgrader": {
     "grade": false,
     "grade_id": "h00",
     "locked": true,
     "schema_version": 3,
     "solution": false
    }
   },
   "source": [
    "Osnabrück University - Computer Vision (Winter Term 2020/21) - Prof. Dr.-Ing. G. Heidemann, Ulf Krumnack, Axel Schaffland"
   ]
  },
  {
   "cell_type": "markdown",
   "id": "4b86ba8e",
   "metadata": {
    "nbgrader": {
     "grade": false,
     "grade_id": "h01",
     "locked": true,
     "schema_version": 3,
     "solution": false
    }
   },
   "source": [
    "# Exercise Sheet 00: Preparation"
   ]
  },
  {
   "cell_type": "markdown",
   "id": "4dbf3c12",
   "metadata": {
    "nbgrader": {
     "grade": false,
     "grade_id": "h02",
     "locked": true,
     "schema_version": 3,
     "solution": false
    }
   },
   "source": [
    "## Introduction\n",
    "\n",
    "This is an introductory exercise sheet that shall help you getting started with Python and Jupyter Notebooks, the tools we will use in the practice sessions of the Computer Vision course. The is a preparatory sheet and you are not require to submit your solutions.\n",
    "\n",
    "We encourage you to work through this sheet to make sure you get familiar with this setup and to check if you feel comfortable with reading and understanding the documentation of the software packages.\n",
    "\n",
    "In case of questions, feel free to post them to the forum and/or raise them in the next practice session."
   ]
  },
  {
   "cell_type": "markdown",
   "id": "53d41419",
   "metadata": {
    "nbgrader": {
     "grade": false,
     "grade_id": "ex-setup3",
     "locked": true,
     "schema_version": 3,
     "solution": false
    }
   },
   "source": [
    "## Assignment 0: Check your installation\n",
    "Check that your installation succeeded and all required packages are available by executing the following cell (type <kbd>Ctrl</kbd>+<kbd>&#x23ce;</kbd>, on German keyboards <kbd>Strg</kbd>+<kbd>&#x23ce;</kbd>, or press the \"run cell\"-button at the toolbar above). Seeing no output (no complains) means that your environment seems fine:"
   ]
  },
  {
   "cell_type": "code",
   "execution_count": null,
   "id": "81c27714",
   "metadata": {},
   "outputs": [],
   "source": [
    "import importlib\n",
    "assert importlib.util.find_spec('numpy') is not None , 'numpy not found'\n",
    "assert importlib.util.find_spec('matplotlib') is not None, 'matplotlib not found'\n",
    "assert importlib.util.find_spec('imageio') is not None , 'imageio not found'\n",
    "assert importlib.util.find_spec('scipy') is not None , 'scipy not found'"
   ]
  },
  {
   "cell_type": "markdown",
   "id": "5453bf76",
   "metadata": {
    "nbgrader": {
     "grade": false,
     "grade_id": "ex-setup-remarks",
     "locked": true,
     "schema_version": 3,
     "solution": false
    }
   },
   "source": [
    "## Remarks:\n",
    "\n",
    "* If you experience any troubles, ask your fellow students or send us an e-mail - we are always happy to help.\n",
    "* If you do not want to use Python to do the exercises, but prefer another programming language, you may ask the tutors if they are willing to support it. However, the practice sessions will focus on Python and will probably not cover other languages."
   ]
  },
  {
   "cell_type": "markdown",
   "id": "0cf50fb4",
   "metadata": {
    "nbgrader": {
     "grade": false,
     "grade_id": "cell-e2b9ea6540929a58",
     "locked": true,
     "schema_version": 3,
     "solution": false
    }
   },
   "source": [
    "## Assignment 1: Image I/O\n",
    "\n",
    "`imageio` is a Python library that provides an easy interface to read and write a wide range of image data. The goal of this exercise is to get familiar with different ways of obtaining images for further processing."
   ]
  },
  {
   "cell_type": "markdown",
   "id": "500c2fe3",
   "metadata": {
    "nbgrader": {
     "grade": false,
     "grade_id": "cell-dfb47c896b16d37b",
     "locked": true,
     "schema_version": 3,
     "solution": false
    }
   },
   "source": [
    "**a) Example images:** `imageio` provides a number of example images, which can be loaded by the special URI `imageio:`. These include classic 2D images, as well as animated and volumetric images. \n",
    "\n",
    "Find out what other images are provided and how these are represented when loaded as numpy array."
   ]
  },
  {
   "cell_type": "code",
   "execution_count": null,
   "id": "d9ad222b",
   "metadata": {
    "nbgrader": {
     "grade": true,
     "grade_id": "cell-4c4e189c29e97763",
     "locked": false,
     "points": 1,
     "schema_version": 3,
     "solution": true
    }
   },
   "outputs": [],
   "source": [
    "%matplotlib inline\n",
    "import matplotlib.pyplot as plt\n",
    "import imageio\n",
    "\n",
    "filename = 'chelsea.png'\n",
    "\n",
    "### BEGIN SOLUTION\n",
    "# The imageio documenation lists in section \"2.5 Imageio standard images\"\n",
    "# the available images:\n",
    "#filename = 'chelsea.bsdf'  # The chelsea.png in a BSDF file(for testing)\n",
    "#filename =  'newtonscradle.gif' # Animated GIF of a newton’s cradle\n",
    "#filename =  'cockatoo.mp4'  # Video file of a cockatoo\n",
    "#filename =  'stent.npz'  # Volumetric image showing a stented abdominal aorta\n",
    "#filename =  'astronaut.png'  # Image of the astronaut Eileen Collins\n",
    "#filename =  'camera.png'  # Classic grayscale image of a photographer\n",
    "#filename =  'checkerboard.png'  # Black and white image of a chekerboard\n",
    "#filename =  'chelsea.png'  # Image of Stefan’s cat\n",
    "#filename =  'clock.png'  # Photo of a clock with motion blur (Stefan van der Walt)\n",
    "#filename =  'coffee.png'  # Image of a cup of coffee (Rachel Michetti)\n",
    "#filename =  'coins.png'  # Image showing greek coins from Pompeii\n",
    "#filename =  'horse.png'  # Image showing the silhouette of a horse (Andreas Preuss)\n",
    "#filename =  'hubble_deep_field.png'  # Photograph taken by Hubble telescope (NASA)\n",
    "#filename =  'immunohistochemistry.png' # Immunohistochemical (IHC) staining\n",
    "#filename =  'moon.png'  # Image showing a portion of the surface of the moon\n",
    "#filename =  'page.png'  # A scanned page of text\n",
    "#filename =  'text.png'  # A photograph of handdrawn text\n",
    "#filename =  'wikkie.png'  # Image of Almar’s cat\n",
    "#filename =  'chelsea.zip'  # The chelsea.png in a zipfile (for testing)\n",
    "# this list is also available at\n",
    "# https://imageio.readthedocs.io/en/stable/standardimages.html\n",
    "### END SOLUTION\n",
    "\n",
    "im =  imageio.imread('imageio:' + filename)\n",
    "\n",
    "plt.figure()\n",
    "plt.title(f\"{filename}: {im.shape}\")\n",
    "plt.imshow(im)\n",
    "plt.show()"
   ]
  },
  {
   "cell_type": "markdown",
   "id": "5b6d935d",
   "metadata": {
    "nbgrader": {
     "grade": false,
     "grade_id": "cell-0dfa25076996bb59",
     "locked": true,
     "schema_version": 3,
     "solution": false
    }
   },
   "source": [
    "**(b) Loading an image from a file**. Usually, you will have to load images from a file. We have uploaded an example image to the StudIP folder along with this exercise sheet. Load that image using the `imageio` library."
   ]
  },
  {
   "cell_type": "code",
   "execution_count": null,
   "id": "216d205b",
   "metadata": {
    "nbgrader": {
     "grade": true,
     "grade_id": "cell-b9de9ac530ecf609",
     "locked": false,
     "points": 1,
     "schema_version": 3,
     "solution": true
    }
   },
   "outputs": [],
   "source": [
    "%matplotlib inline\n",
    "import matplotlib.pyplot as plt\n",
    "\n",
    "### BEGIN SOLUTION\n",
    "import imageio\n",
    "\n",
    "im = imageio.imread(\"example.jpg\")\n",
    "### END SOLUTION\n",
    "\n",
    "plt.figure()\n",
    "plt.title(f\"Image: {im.shape}\")\n",
    "plt.imshow(im)\n",
    "plt.show()"
   ]
  },
  {
   "cell_type": "markdown",
   "id": "8d04bd0a",
   "metadata": {
    "nbgrader": {
     "grade": false,
     "grade_id": "cell-d55e25d7535d0978",
     "locked": true,
     "schema_version": 3,
     "solution": false
    }
   },
   "source": [
    "**(c) Download an image from the web**. `imageio` also allows to load images from arbitrary URLs. Download an image from a URL of your choice and display it."
   ]
  },
  {
   "cell_type": "code",
   "execution_count": null,
   "id": "de7f01e6",
   "metadata": {
    "nbgrader": {
     "grade": true,
     "grade_id": "cell-5be8094ec03ecc4e",
     "locked": false,
     "points": 1,
     "schema_version": 3,
     "solution": true
    }
   },
   "outputs": [],
   "source": [
    "%matplotlib inline\n",
    "import matplotlib.pyplot as plt\n",
    "import imageio\n",
    "\n",
    "### BEGIN SOLUTION\n",
    "im = imageio.imread(\"https://github.com/imageio/imageio-binaries/raw/master/images/camera.png\")\n",
    "\n",
    "plt.figure()\n",
    "plt.title(f\"Image: {im.shape}\")\n",
    "plt.imshow(im)\n",
    "plt.show()\n",
    "### END SOLUTION"
   ]
  },
  {
   "cell_type": "markdown",
   "id": "aab092ea",
   "metadata": {
    "nbgrader": {
     "grade": false,
     "grade_id": "cell-8486e2482bc8265b",
     "locked": true,
     "schema_version": 3,
     "solution": false
    }
   },
   "source": [
    "**(d) Storing image as file.** The function `imageio.imwrite()` can be used to store images on your harddrive. Mark the head of the cameraman with a rectangle and store the resulting image in a file. Check the saved image with some external program."
   ]
  },
  {
   "cell_type": "code",
   "execution_count": null,
   "id": "64e6f32a",
   "metadata": {
    "nbgrader": {
     "grade": true,
     "grade_id": "cell-b38e5d41512dc3c2",
     "locked": false,
     "points": 2,
     "schema_version": 3,
     "solution": true
    }
   },
   "outputs": [],
   "source": [
    "%matplotlib inline\n",
    "import matplotlib.pyplot as plt\n",
    "import imageio\n",
    "\n",
    "im =  imageio.imread('imageio:camera.png')\n",
    "\n",
    "### BEGIN SOLUTION\n",
    "x1, x2 = 190,270\n",
    "y1, y2 = 70,160\n",
    "box = 255\n",
    "im[(y1,y2),x1:x2] = box\n",
    "im[y1:y2,(x1,x2)] = box\n",
    "\n",
    "imageio.imwrite('example.png', im)\n",
    "### END SOLUTION\n",
    "\n",
    "plt.figure(figsize=(12,12))\n",
    "plt.title(f\"Image: {im.shape}\")\n",
    "plt.imshow(im)\n",
    "plt.show()"
   ]
  },
  {
   "cell_type": "markdown",
   "id": "8f9a7f36",
   "metadata": {
    "nbgrader": {
     "grade": false,
     "grade_id": "cell-92a05cbfd7ea0add",
     "locked": true,
     "schema_version": 3,
     "solution": false,
     "task": false
    }
   },
   "source": [
    "**(e) Acquire image from webcam (bonus)** `imageio` also allows to acquire images from a webcam. However, accessing the webcam relies on external software and requires that your operating system grants access to the webcam. Try to make the following cell work!"
   ]
  },
  {
   "cell_type": "code",
   "execution_count": null,
   "id": "0e3dafa0",
   "metadata": {},
   "outputs": [],
   "source": [
    "%matplotlib inline\n",
    "import matplotlib.pyplot as plt\n",
    "import imageio\n",
    "\n",
    "reader = imageio.get_reader('<video0>')\n",
    "im = reader.get_next_data()\n",
    "\n",
    "plt.figure()\n",
    "plt.title(f\"Webcam image: {im.shape}\")\n",
    "plt.imshow(im)\n",
    "plt.show()"
   ]
  },
  {
   "cell_type": "markdown",
   "id": "38387f59",
   "metadata": {
    "nbgrader": {
     "grade": false,
     "grade_id": "cell-38b7f34be3403b53",
     "locked": true,
     "schema_version": 3,
     "solution": false
    }
   },
   "source": [
    "## Assignment 2: Displaying images\n",
    "In exercises and during the practice sessions, we will make extensive use of `matplotlib`'s `imshow` function for displaying images. Properly understanding the details of how this function works is essential to avoid problems later on. Take a close look at the documentation and then answer the following questions:"
   ]
  },
  {
   "cell_type": "markdown",
   "id": "eb0abf02",
   "metadata": {
    "nbgrader": {
     "grade": false,
     "grade_id": "cell-75af10dfb6197e3d",
     "locked": true,
     "schema_version": 3,
     "solution": false,
     "task": false
    }
   },
   "source": [
    "**(a) Origin:** The default behaviour of `imshow` is to display the origin (the point with coordinates (0,0)) at the upper left corner. How can you change this to the lower left corner (as it is usually done in mathematical contexts when displaying graphs)?"
   ]
  },
  {
   "cell_type": "code",
   "execution_count": null,
   "id": "2a5c20e1",
   "metadata": {
    "nbgrader": {
     "grade": true,
     "grade_id": "cell-859fbd418004678f",
     "locked": false,
     "points": 1,
     "schema_version": 3,
     "solution": true,
     "task": false
    }
   },
   "outputs": [],
   "source": [
    "%matplotlib inline\n",
    "import matplotlib.pyplot as plt\n",
    "import imageio\n",
    "\n",
    "im = imageio.imread(\"imageio:camera.png\")\n",
    "\n",
    "plt.figure()\n",
    "plt.title(f\"shape: {im.shape}\")\n",
    "### BEGIN SOLUTION\n",
    "plt.imshow(im, origin='lower')\n",
    "### END SOLUTION\n",
    "plt.show()"
   ]
  },
  {
   "cell_type": "markdown",
   "id": "67a5677f",
   "metadata": {
    "nbgrader": {
     "grade": false,
     "grade_id": "cell-213eeac484b06e9c",
     "locked": true,
     "schema_version": 3,
     "solution": false
    }
   },
   "source": [
    "**(b) Monochrome images:** When displaying monochrome images (that is 2-dimensional arrays), they will by default not be displayed as grayscale by `imshow` but rather appear yellow-greenish. Explain why this is the case and how you can achieve  grayscale output."
   ]
  },
  {
   "cell_type": "markdown",
   "id": "0096aee0",
   "metadata": {
    "nbgrader": {
     "grade": true,
     "grade_id": "cell-2fc0ab8469dd504b",
     "locked": false,
     "points": 1,
     "schema_version": 3,
     "solution": true
    }
   },
   "source": [
    "Matplotlib displays monochrome images using a colormap (see [Matplotlib documentation: colormaps](https://matplotlib.org/gallery/color/colormap_reference.html)), mapping values present in the image to the colors of the colormap. The default colormap (`plt.rcParams['image.cmap']`) is `'viridis'`. To obtain a gray scale image, you have to use the colormap `'gray'`. There are different ways to achieve this."
   ]
  },
  {
   "cell_type": "code",
   "execution_count": null,
   "id": "bc852789",
   "metadata": {
    "nbgrader": {
     "grade": true,
     "grade_id": "cell-22b8021c9ab6b152",
     "locked": false,
     "points": 1,
     "schema_version": 3,
     "solution": true
    }
   },
   "outputs": [],
   "source": [
    "%matplotlib inline\n",
    "import matplotlib.pyplot as plt\n",
    "import imageio\n",
    "\n",
    "im = imageio.imread(\"imageio:camera.png\")\n",
    "\n",
    "plt.figure()\n",
    "plt.title(f\"shape: {im.shape}\")\n",
    "### BEGIN SOLUTION\n",
    "print(plt.rcParams['image.cmap'])\n",
    "plt.gray()\n",
    "### END SOLUTION\n",
    "plt.imshow(im)\n",
    "plt.show()"
   ]
  },
  {
   "cell_type": "markdown",
   "id": "0a8a350c",
   "metadata": {
    "nbgrader": {
     "grade": false,
     "grade_id": "cell-be882dcd39e9375a",
     "locked": true,
     "schema_version": 3,
     "solution": false
    }
   },
   "source": [
    "**(c) interpolation:** Demonstrate the effect of the `interpolation=` parameter on a small (e.g. $4\\times 4$) image. Discuss in what situations you would use which interpolation technique."
   ]
  },
  {
   "cell_type": "markdown",
   "id": "f96a34cd",
   "metadata": {
    "nbgrader": {
     "grade": true,
     "grade_id": "cell-40b940437c4c0ae5",
     "locked": false,
     "points": 1,
     "schema_version": 3,
     "solution": true
    }
   },
   "source": []
  },
  {
   "cell_type": "code",
   "execution_count": null,
   "id": "2814368e",
   "metadata": {},
   "outputs": [],
   "source": [
    "%matplotlib inline\n",
    "import numpy as np\n",
    "import matplotlib.pyplot as plt\n",
    "\n",
    "im = np.random.randint(0,16,(4,4))\n",
    "\n",
    "plt.figure()\n",
    "plt.title(f\"Image: {im.shape}\")\n",
    "plt.imshow(im, interpolation=\"none\")\n",
    "plt.show()"
   ]
  },
  {
   "cell_type": "markdown",
   "id": "1aaccb4b",
   "metadata": {
    "nbgrader": {
     "grade": false,
     "grade_id": "cell-9f869cf13a972e4d",
     "locked": true,
     "schema_version": 3,
     "solution": false
    }
   },
   "source": [
    "**(d)** Consider the following example: Two images are created, one with values in the range $[0,128[$, the other with values in the range $[0,256[$. Yet both images appear identical when displayed with `imshow`. Explain this effect and what to do to make the first image appear darker."
   ]
  },
  {
   "cell_type": "markdown",
   "id": "63fb1ab5",
   "metadata": {
    "nbgrader": {
     "grade": true,
     "grade_id": "cell-ba0b895740412a54",
     "locked": false,
     "points": 1,
     "schema_version": 3,
     "solution": true
    }
   },
   "source": [
    "`imshow` automatically adapts the colors used for display to the range of the images value. If you want to avoid this, you have to specify an explicit range via the `vmin` and `vmax` parameters."
   ]
  },
  {
   "cell_type": "code",
   "execution_count": null,
   "id": "14063ba6",
   "metadata": {},
   "outputs": [],
   "source": [
    "%matplotlib inline\n",
    "import numpy as np\n",
    "import matplotlib.pyplot as plt\n",
    "\n",
    "im1 = np.arange(0,128).reshape(8,16)\n",
    "im2 = np.arange(0,256,2).reshape(8,16)\n",
    "\n",
    "plt.figure(figsize=(12,3))\n",
    "plt.subplot(1,2,1)\n",
    "plt.title(f\"Image1: {im1.min()}-{im1.max()}\")\n",
    "plt.imshow(im1)\n",
    "plt.subplot(1,2,2)\n",
    "plt.title(f\"Image1: {im2.min()}-{im2.max()}\")\n",
    "plt.imshow(im2)\n",
    "plt.show()"
   ]
  },
  {
   "cell_type": "markdown",
   "id": "3bfaa052",
   "metadata": {
    "nbgrader": {
     "grade": false,
     "grade_id": "cell-3fdf7b0b1dd58f16",
     "locked": true,
     "schema_version": 3,
     "solution": false
    }
   },
   "source": [
    "**(e)** Explain in your own words the effect of the `extent=` parameter. Create a small example demonstrating the effect."
   ]
  },
  {
   "cell_type": "markdown",
   "id": "71150ec5",
   "metadata": {
    "nbgrader": {
     "grade": true,
     "grade_id": "cell-3da2b447d11b998c",
     "locked": false,
     "points": 1,
     "schema_version": 3,
     "solution": true,
     "task": false
    }
   },
   "source": []
  },
  {
   "cell_type": "code",
   "execution_count": null,
   "id": "ed814d50",
   "metadata": {
    "nbgrader": {
     "grade": true,
     "grade_id": "cell-df27e8647a557b96",
     "locked": false,
     "points": 1,
     "schema_version": 3,
     "solution": true,
     "task": false
    }
   },
   "outputs": [],
   "source": [
    "%matplotlib inline\n",
    "import matplotlib.pyplot as plt\n",
    "import imageio\n",
    "\n",
    "im = imageio.imread(\"imageio:camera.png\")\n",
    "\n",
    "plt.figure()\n",
    "plt.title(f\"Image: {im.shape}\")\n",
    "### BEGIN SOLUTION\n",
    "plt.imshow(im, extent=(0,100,0,100))\n",
    "plt.plot((0,100),(0,100))\n",
    "### END SOLUTION\n",
    "plt.show()"
   ]
  },
  {
   "cell_type": "markdown",
   "id": "982c2b2b",
   "metadata": {
    "nbgrader": {
     "grade": false,
     "grade_id": "cell-9f1be0e442314a75",
     "locked": true,
     "schema_version": 3,
     "solution": false,
     "task": false
    }
   },
   "source": [
    "## Assignment 3: Computer Vision\n",
    "\n",
    "This exercise is purely conceptual and does not include any coding.  Nevertheless, we recommend to spent some time, revisit the first lecture, and do background reading to get a good understanding of the basic questions in computer vision."
   ]
  },
  {
   "cell_type": "markdown",
   "id": "5994e383",
   "metadata": {
    "nbgrader": {
     "grade": false,
     "grade_id": "cell-ec4bc46b73e2a6a8",
     "locked": true,
     "schema_version": 3,
     "solution": false,
     "task": false
    }
   },
   "source": [
    "**(a)** What is computer vision? Describe, in your own words, the goals of the field and discuss potential problems you see in reaching these goals."
   ]
  },
  {
   "cell_type": "markdown",
   "id": "c5d3abfe",
   "metadata": {
    "nbgrader": {
     "grade": true,
     "grade_id": "cell-5072bbbd132c6b02",
     "locked": false,
     "points": 3,
     "schema_version": 3,
     "solution": true,
     "task": false
    }
   },
   "source": []
  },
  {
   "cell_type": "markdown",
   "id": "0af769b1",
   "metadata": {
    "nbgrader": {
     "grade": false,
     "grade_id": "cell-e87436bca7e8e2b5",
     "locked": true,
     "schema_version": 3,
     "solution": false,
     "task": false
    }
   },
   "source": [
    "**(b)** Describe some actual applications of computer vision in current technologies. Discuss benefits and risks of such applications."
   ]
  },
  {
   "cell_type": "markdown",
   "id": "e9b782ab",
   "metadata": {
    "nbgrader": {
     "grade": true,
     "grade_id": "cell-266f813fb47d960a",
     "locked": false,
     "points": 3,
     "schema_version": 3,
     "solution": true,
     "task": false
    }
   },
   "source": []
  },
  {
   "cell_type": "markdown",
   "id": "3237366d",
   "metadata": {},
   "source": [
    "**(c)** Envision your own use case of computer vision system. Describe what vision related tasks have to be solved in your system and how you would address these tasks."
   ]
  },
  {
   "cell_type": "markdown",
   "id": "892058d8",
   "metadata": {
    "nbgrader": {
     "grade": true,
     "grade_id": "cell-46b6322265d066ae",
     "locked": false,
     "points": 2,
     "schema_version": 3,
     "solution": true,
     "task": false
    }
   },
   "source": []
  }
 ],
 "metadata": {
  "kernelspec": {
   "display_name": "Python 3 (ipykernel)",
   "language": "python",
   "name": "python3"
  }
 },
 "nbformat": 4,
 "nbformat_minor": 5
}
