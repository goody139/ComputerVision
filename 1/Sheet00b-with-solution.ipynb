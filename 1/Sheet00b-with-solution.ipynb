{
 "cells": [
  {
   "cell_type": "markdown",
   "id": "57e2cb44",
   "metadata": {
    "nbgrader": {
     "grade": false,
     "grade_id": "h00",
     "locked": true,
     "schema_version": 3,
     "solution": false
    }
   },
   "source": [
    "Osnabrück University - Computer Vision (Winter Term 2021/22) - Prof. Dr.-Ing. G. Heidemann, Ulf Krumnack, Axel Schaffland"
   ]
  },
  {
   "cell_type": "markdown",
   "id": "e4e8d8f9",
   "metadata": {
    "nbgrader": {
     "grade": false,
     "grade_id": "h01",
     "locked": true,
     "schema_version": 3,
     "solution": false
    }
   },
   "source": [
    "# Exercise Sheet 00b: Cameras and Noise"
   ]
  },
  {
   "cell_type": "markdown",
   "id": "db0599ae",
   "metadata": {
    "nbgrader": {
     "grade": false,
     "grade_id": "h02",
     "locked": true,
     "schema_version": 3,
     "solution": false
    }
   },
   "source": [
    "## Introduction\n",
    "\n",
    "This is the second introductory exercise sheet. It is somewhat shorter than the regular sheets, intended to make yourselves familiar with our procedures. This sheet should be solved in groups and solutions should be uploaded to your group's dedicated folder in Stud.IP before **Tuesday, November 2nd, 14:00**. \n",
    "In case you cannot do this sheet (due to technical or organizational problems) please upload a description of your problem instead. Your tutor will help you to solve the problems in the first feedback session and you may hand in this sheet together with the first regular sheet one week later.\n",
    "\n",
    "In case of questions, feel free to post them to the forum and/or raise them in the next practice session."
   ]
  },
  {
   "cell_type": "markdown",
   "id": "a3e29f50",
   "metadata": {
    "nbgrader": {
     "grade": false,
     "grade_id": "cell-d79a9e4f15cd77ba",
     "locked": true,
     "schema_version": 3,
     "solution": false,
     "task": false
    }
   },
   "source": [
    "## Assignment 1: Pinhole Camera and One Chip Cameras\n",
    "In this assignment we will use the pinhole camera model and formulae from slides CV-02 page 10.\n",
    "\n",
    "Imagine a very low budget autonomous car with a pinhole camera with a focal length of $24\\,\\text{mm}$ at the front.\n",
    "\n",
    "![slides2_10.png](slides2_10.png)\n"
   ]
  },
  {
   "cell_type": "markdown",
   "id": "43c938b4",
   "metadata": {
    "nbgrader": {
     "grade": false,
     "grade_id": "cell-665a39d299146b0c",
     "locked": true,
     "schema_version": 3,
     "solution": false,
     "task": false
    }
   },
   "source": [
    "**(a)** A pedestrian walks in front of the car. On the camera sensor the image of the person has a height of $12\\,\\text{mm}$. Assume that the person is of average height of $1.70\\,\\text{m}$. How far is the car away from the person?"
   ]
  },
  {
   "cell_type": "markdown",
   "id": "ca5d9f49",
   "metadata": {
    "nbgrader": {
     "grade": true,
     "grade_id": "cell-03b0f48b1afa879b",
     "locked": false,
     "points": 0,
     "schema_version": 3,
     "solution": true,
     "task": false
    }
   },
   "source": [
    "$f' = 24\\,\\text{mm}$\n",
    "\n",
    "$y' = 12\\,\\text{mm}$\n",
    "\n",
    "$y = 1700\\,\\text{mm}$\n",
    "\n",
    "$z = ?$\n",
    "\n",
    "$y' = f' \\frac{y}{z}$\n",
    "\n",
    "$z = f' \\frac{y}{y'}$\n",
    "\n",
    "$z = 24\\,\\text{mm} \\frac{1700\\,\\text{mm}}{12\\,\\text{mm}} = 3400\\,\\text{mm}$\n",
    "\n",
    "\n",
    "**The person is $3.40\\,\\text{m}$ away from the car!**"
   ]
  },
  {
   "cell_type": "markdown",
   "id": "f341a31b",
   "metadata": {
    "nbgrader": {
     "grade": false,
     "grade_id": "cell-a4271649eb839f90",
     "locked": true,
     "schema_version": 3,
     "solution": false,
     "task": false
    }
   },
   "source": [
    "**(b)** A rectangular traffic sign with a width of $0.75\\,\\text{m}$ and a height of $0.50\\,\\text{m}$ is $2\\,\\text{m}$ away from the front of the same car with the same camera. This camera is a One Chip Camera with a Bayer Filter. Each colour pixel has a size of $10\\,\\text{μm}$ How many green pixels are inside the image of the traffic sign?"
   ]
  },
  {
   "cell_type": "markdown",
   "id": "708b884a",
   "metadata": {
    "nbgrader": {
     "grade": true,
     "grade_id": "cell-4c5fa7d6d0b8dabe",
     "locked": false,
     "points": 0,
     "schema_version": 3,
     "solution": true,
     "task": false
    }
   },
   "source": [
    "$f' = 24\\,\\text{mm}$\n",
    "\n",
    "$y = 500\\,\\text{mm}$\n",
    "\n",
    "$x = 700\\,\\text{mm}$\n",
    "\n",
    "$z = 2000\\,\\text{mm}$\n",
    "\n",
    "$x' = f' \\frac{x}{z} = 24\\,\\text{mm} * \\frac{750\\,\\text{mm}}{2000\\,\\text{mm}} = 9\\,\\text{mm}$\n",
    "\n",
    "$y' = f' \\frac{y}{z} = 24\\,\\text{mm} * \\frac{500\\,\\text{mm}}{2000\\,\\text{mm}} = 6\\,\\text{mm}$\n",
    "\n",
    "\n",
    "Number of pixels in $x'$ direction = $\\frac{9000\\text{μm}}{10\\text{μm}} = 900$\n",
    "\n",
    "Number of pixels in $y'$ direction = $\\frac{6000\\text{μm}}{10\\text{μm}} = 600$\n",
    "\n",
    "Number of overall pixel = $540000$\n",
    "\n",
    "Number of green pixels = $\\frac{540000}{2} = 270000$\n",
    "\n",
    "\n",
    "**The image of the traffic light covers an area of $270000$ green pixels!**\n",
    "\n"
   ]
  },
  {
   "cell_type": "markdown",
   "id": "53a83c76",
   "metadata": {
    "nbgrader": {
     "grade": false,
     "grade_id": "cell-525292a528bb2f53",
     "locked": true,
     "schema_version": 3,
     "solution": false,
     "task": false
    }
   },
   "source": [
    "## Assignment 2: Noise\n",
    "\n",
    "In this assignment we will use `numpy.random` functions to add artificial noise to one of our images. Normally, we are interested in removing noise from images. However, if we want to make an algorithm robust against noise, we might want to create artificial images with controlled noise."
   ]
  },
  {
   "cell_type": "markdown",
   "id": "30bd0855",
   "metadata": {
    "nbgrader": {
     "grade": false,
     "grade_id": "cell-276edd2e7adad70b",
     "locked": true,
     "schema_version": 3,
     "solution": false,
     "task": false
    }
   },
   "source": [
    "**(a)** Add Gaussian noise to an image with the help of ``numpy.random.normal``. Try different standard deviations of the distribution. A good starting value would be $20$."
   ]
  },
  {
   "cell_type": "code",
   "execution_count": null,
   "id": "b6f6cbab",
   "metadata": {
    "nbgrader": {
     "grade": true,
     "grade_id": "cell-3c2e25df2b9643c7",
     "locked": false,
     "points": 0,
     "schema_version": 3,
     "solution": true,
     "task": false
    }
   },
   "outputs": [],
   "source": [
    "%matplotlib inline\n",
    "import matplotlib.pyplot as plt\n",
    "import imageio\n",
    "import numpy as np\n",
    "\n",
    "sigma = 20\n",
    "im = imageio.imread(\"imageio:camera.png\")\n",
    "\n",
    "im_noisy = im.copy()\n",
    "\n",
    "### BEGIN SOLUTION\n",
    "im_noisy = im + np.random.normal(0, sigma, im.shape)\n",
    "\n",
    "# The solution above is simple but far from good:\n",
    "# The array was automatically cast to float and values are smaller zero and bigger than 255:\n",
    "print(im_noisy.dtype)\n",
    "print(im_noisy.max())\n",
    "\n",
    "# To solve this\n",
    "im_noisy[im_noisy<0] = 0\n",
    "im_noisy[im_noisy>255] = 255\n",
    "im_noisy = im_noisy.astype(np.uint8)\n",
    "### END SOLUTION\n",
    "\n",
    "plt.figure()\n",
    "plt.gray()\n",
    "plt.imshow(im)\n",
    "plt.figure()\n",
    "plt.imshow(im_noisy)\n",
    "plt.figure()\n",
    "plt.imshow(im[100:200,200:300])\n",
    "plt.figure()\n",
    "plt.imshow(im_noisy[100:200,200:300])\n",
    "plt.show()"
   ]
  },
  {
   "cell_type": "markdown",
   "id": "50710f91",
   "metadata": {
    "nbgrader": {
     "grade": false,
     "grade_id": "cell-78af062585379798",
     "locked": true,
     "schema_version": 3,
     "solution": false
    }
   },
   "source": [
    "**(b)** Add Salt-and-pepper noise to one of our images. Create one image with $5\\%$ noise and one with $50\\%$. Experiment with other values. Can you give a threshold when is the noise disruptive?"
   ]
  },
  {
   "cell_type": "code",
   "execution_count": null,
   "id": "1614eb99",
   "metadata": {
    "nbgrader": {
     "grade": true,
     "grade_id": "cell-2a29c02d6c0d059a",
     "locked": false,
     "points": 0,
     "schema_version": 3,
     "solution": true,
     "task": false
    }
   },
   "outputs": [],
   "source": [
    "%matplotlib inline\n",
    "import matplotlib.pyplot as plt\n",
    "import imageio\n",
    "import numpy as np\n",
    "\n",
    "noise_ratio = .05\n",
    "im = imageio.imread(\"imageio:camera.png\")\n",
    "\n",
    "im_noisy = im.copy()\n",
    "\n",
    "### BEGIN SOLUTION\n",
    "# Generate a random value for each pixel\n",
    "# Make a pixel black or white if the corresponding\n",
    "# random value exceeds a threshold\n",
    "random_values = np.random.uniform(0, 1, im.shape)\n",
    "im_noisy[random_values < noise_ratio/2] = 0\n",
    "im_noisy[random_values > (1 - noise_ratio/2)] = 255\n",
    "\n",
    "# Alternative solution:\n",
    "# Generate random pixel locations and add noise at these locations\n",
    "im_noisy = im.flatten()\n",
    "num_noise_pixels = int(noise_ratio * im_noisy.shape[0])\n",
    "idxs = np.random.choice(im_noisy.shape[0], num_noise_pixels, replace=False)\n",
    "im_noisy[idxs[:int(num_noise_pixels/2)]] = 0\n",
    "im_noisy[idxs[int(num_noise_pixels/2):]] = 255\n",
    "im_noisy = im_noisy.reshape(im.shape)\n",
    "### END SOLUTION\n",
    "\n",
    "plt.figure()\n",
    "plt.gray()\n",
    "plt.imshow(im)\n",
    "plt.figure()\n",
    "plt.imshow(im_noisy)\n",
    "plt.figure()\n",
    "plt.imshow(im[100:200,200:300])\n",
    "plt.figure()\n",
    "plt.imshow(im_noisy[100:200,200:300])\n",
    "plt.show()"
   ]
  },
  {
   "cell_type": "markdown",
   "id": "51c78d15",
   "metadata": {
    "nbgrader": {
     "grade": true,
     "grade_id": "cell-50232e4f7c3be90c",
     "locked": false,
     "points": 0,
     "schema_version": 3,
     "solution": true
    }
   },
   "source": [
    "There is no clear threshold for noise. Aceptable levels of noise depent on applications, image magnification, aesthetics, etc."
   ]
  },
  {
   "cell_type": "markdown",
   "id": "efeecb91",
   "metadata": {
    "nbgrader": {
     "grade": false,
     "grade_id": "cell-eb96071f6d05c7df",
     "locked": true,
     "schema_version": 3,
     "solution": false
    }
   },
   "source": [
    "**(c)** How could we remove noise from an image. Do you have an idea for Gaussian Noise? Do you have an idea for Salt-and-pepper noise? This is a brainstorming questions! We do not except working solutions but ideas on how you would approach the problem!"
   ]
  },
  {
   "cell_type": "markdown",
   "id": "1324e942",
   "metadata": {
    "nbgrader": {
     "grade": true,
     "grade_id": "cell-dc0638e930538dcd",
     "locked": false,
     "points": 0,
     "schema_version": 3,
     "solution": true
    }
   },
   "source": []
  }
 ],
 "metadata": {
  "kernelspec": {
   "display_name": "Python 3 (ipykernel)",
   "language": "python",
   "name": "python3"
  }
 },
 "nbformat": 4,
 "nbformat_minor": 5
}
