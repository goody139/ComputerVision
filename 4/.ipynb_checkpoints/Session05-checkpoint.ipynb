{
 "cells": [
  {
   "cell_type": "markdown",
   "id": "8d1f6084",
   "metadata": {
    "slideshow": {
     "slide_type": "slide"
    }
   },
   "source": [
    "# Computer Vision (Winter 2021/22)"
   ]
  },
  {
   "cell_type": "markdown",
   "id": "e2e0e879",
   "metadata": {},
   "source": [
    "#### Practice Session 5: Morphology"
   ]
  },
  {
   "cell_type": "markdown",
   "id": "4ac3bdec",
   "metadata": {},
   "source": [
    "November 16th, 2021"
   ]
  },
  {
   "cell_type": "markdown",
   "id": "30830520",
   "metadata": {},
   "source": [
    "Axel Schaffland, Ulf Krumnack\n",
    "\n",
    "Institute of Cognitive Science\n",
    "University of Osnabrück"
   ]
  },
  {
   "cell_type": "markdown",
   "id": "e3a1b0e5",
   "metadata": {
    "slideshow": {
     "slide_type": "subslide"
    }
   },
   "source": [
    "## Today's Session"
   ]
  },
  {
   "cell_type": "markdown",
   "id": "a875b183",
   "metadata": {},
   "source": [
    "* Seperable Kernels\n",
    "* Information content and entropy\n",
    "* Binary Operators and Structuring Elements\n",
    "* Skeletonization with Hit or Miss (Handwritten Example)\n",
    "* Sheet 03\n",
    "* Interactive plots\n",
    "* Matplotlib animations\n"
   ]
  },
  {
   "cell_type": "markdown",
   "id": "080d0c20",
   "metadata": {},
   "source": [
    "### Seperable Kernels"
   ]
  },
  {
   "cell_type": "code",
   "execution_count": null,
   "id": "40299c97",
   "metadata": {},
   "outputs": [],
   "source": [
    "%matplotlib inline\n",
    "import numpy as np\n",
    "import matplotlib.pyplot as plt\n",
    "import imageio\n",
    "from scipy.ndimage.filters import convolve\n",
    "\n",
    "\n",
    "img = imageio.imread('imageio:camera.png')[100:200,200:300].astype(np.float32)/255\n",
    "\n",
    "# Gauss\n",
    "#horizontal_kernel = 1/64 *np.array([[1,6,15,20,15,6,1]],dtype=np.float32)\n",
    "#vertical_kernel = 1/64 * np.array([[1,6,15,20,15,6,1]],dtype=np.float32).T\n",
    "\n",
    "# Sobel\n",
    "horizontal_kernel = 1/4 * np.array([[1,2,1]],dtype=np.float32)\n",
    "vertical_kernel = np.array([[1, 0, -1]],dtype=np.float32).T\n",
    "\n",
    "\n",
    "combined_kernel = vertical_kernel * horizontal_kernel\n",
    "\n",
    "\n",
    "img_hor = convolve(img, horizontal_kernel)\n",
    "img_ver = convolve(img, vertical_kernel)\n",
    "img_sep = convolve(convolve(img, vertical_kernel), horizontal_kernel)\n",
    "img_comb = convolve(img, combined_kernel)\n",
    "\n",
    "plt.figure(figsize=(12,12)); plt.gray()\n",
    "plt.subplot(3,3,1); plt.imshow(vertical_kernel, vmin=-1, vmax=1); plt.title(\"Vertical Kernel\")\n",
    "plt.subplot(3,3,2); plt.imshow(horizontal_kernel, vmin=-1, vmax=1); plt.title(\"Horizontal Kernel\")\n",
    "plt.subplot(3,3,3); plt.imshow(combined_kernel, vmin=-1, vmax=1); plt.title(\"Combined Kernel\")\n",
    "plt.subplot(3,3,4); plt.imshow(img); plt.title(\"Original\")\n",
    "plt.subplot(3,3,5); plt.imshow(img_hor); plt.title(\"Horizontal\")\n",
    "plt.subplot(3,3,6); plt.imshow(img_ver); plt.title(\"Vertical\")\n",
    "plt.subplot(3,3,7); plt.imshow(img_sep); plt.title(\"Seperate\")\n",
    "plt.subplot(3,3,8); plt.imshow(img_comb); plt.title(\"2D Kernel\")\n",
    "plt.subplot(3,3,9); plt.imshow(img_sep - img_comb, vmin=0, vmax= 1); plt.title(\"Difference\")\n",
    "\n",
    "plt.show()"
   ]
  },
  {
   "cell_type": "code",
   "execution_count": null,
   "id": "2941c57d",
   "metadata": {},
   "outputs": [],
   "source": []
  },
  {
   "cell_type": "markdown",
   "id": "1815c9a0",
   "metadata": {},
   "source": [
    "## Python background"
   ]
  },
  {
   "cell_type": "code",
   "execution_count": null,
   "id": "ca275abf",
   "metadata": {},
   "outputs": [],
   "source": [
    "# Preparation\n",
    "import numpy as np\n",
    "import matplotlib.pyplot as plt\n",
    "import imageio\n",
    "from scipy.ndimage.filters import laplace, sobel, correlate\n",
    "from skimage import draw\n",
    "\n",
    "plt.rcParams['image.cmap'] = 'gray'"
   ]
  },
  {
   "cell_type": "markdown",
   "id": "715fb646",
   "metadata": {},
   "source": [
    "### Binarization"
   ]
  },
  {
   "cell_type": "code",
   "execution_count": null,
   "id": "2fda4a68",
   "metadata": {},
   "outputs": [],
   "source": [
    "%matplotlib inline\n",
    "\n",
    "img = imageio.imread('imageio:camera.png').astype(float)/255\n",
    "\n",
    "lp = laplace(img)\n",
    "lp_b = lp > 0\n",
    "\n",
    "img_b = img > .5\n",
    "\n",
    "print(\"Laplace image minium is {}, maximum is {}\".format(lp.min(), lp.max()))\n",
    "print(\"Binary laplace image minium is {}, maximum is {}\".format(lp_b.min(), lp_b.max()))\n",
    "print(\"Datatype of binary image is {}.\".format(lp_b.dtype))\n",
    "print(lp_b[100:110,100:110])\n",
    "plt.figure(figsize=(12,12))\n",
    "plt.subplot(2,2,1)\n",
    "plt.imshow(img)\n",
    "plt.subplot(2,2,2)\n",
    "plt.imshow(img_b)\n",
    "plt.subplot(2,2,3)\n",
    "plt.imshow(lp)\n",
    "plt.subplot(2,2,4)\n",
    "plt.imshow(lp_b)\n",
    "plt.show()"
   ]
  },
  {
   "cell_type": "markdown",
   "id": "59df90a1",
   "metadata": {},
   "source": [
    "### Binary Operators"
   ]
  },
  {
   "cell_type": "code",
   "execution_count": null,
   "id": "3527c2df",
   "metadata": {},
   "outputs": [],
   "source": [
    "%matplotlib inline\n",
    "import numpy as np\n",
    "import matplotlib.pyplot as plt\n",
    "from skimage import draw\n",
    "\n",
    "circle_left_img = np.zeros(shape=(300, 300), dtype=np.uint8)\n",
    "circle_left_img[draw.disk((120, 120), 50)] = 1\n",
    "\n",
    "circle_right_img = np.zeros_like(circle_left_img)\n",
    "circle_right_img[draw.disk((180, 180), 50)] = 1\n",
    "\n",
    "plt.figure(figsize=(12, 8)); plt.gray()\n",
    "plt.subplot(3, 2, 1); plt.title(\"Disk 1\"); plt.xticks([]); plt.yticks([])\n",
    "plt.imshow(circle_left_img)\n",
    "\n",
    "plt.subplot(3, 2, 2); plt.title(\"Disk 2\"); plt.xticks([]); plt.yticks([])\n",
    "plt.imshow(circle_right_img)\n",
    "\n",
    "plt.subplot(3, 2, 3); plt.title(\"Disk 1 xor Disk 2\"); plt.xticks([]); plt.yticks([])\n",
    "plt.imshow(circle_left_img ^ circle_right_img)\n",
    "\n",
    "plt.subplot(3, 2, 4); plt.title(\"Disk 1 and Disk 2\"); plt.xticks([]); plt.yticks([])\n",
    "plt.imshow(circle_left_img & circle_right_img)\n",
    "\n",
    "plt.subplot(3, 2, 5); plt.title(\"Disk 1 or Disk 2\"); plt.xticks([]); plt.yticks([])\n",
    "plt.imshow(circle_left_img | circle_right_img)\n",
    "\n",
    "plt.subplot(3, 2, 6); plt.title(\"Not Disk 1\"); plt.xticks([]); plt.yticks([])\n",
    "plt.imshow(~circle_left_img)\n",
    "\n",
    "plt.show()"
   ]
  },
  {
   "cell_type": "markdown",
   "id": "3b37ad2a",
   "metadata": {},
   "source": [
    "### Morphology \n",
    "https://scikit-image.org/docs/dev/api/skimage.morphology.html#skimage.morphology"
   ]
  },
  {
   "cell_type": "code",
   "execution_count": null,
   "id": "8b977075",
   "metadata": {},
   "outputs": [],
   "source": [
    "# Dilation enlarges bright regions\n",
    "from skimage.morphology import square, dilation\n",
    "\n",
    "img = np.zeros((11,11), dtype=np.uint8)\n",
    "img[(2,8),2:9] = 255\n",
    "\n",
    "img_dil = dilation(img, square(3))\n",
    "\n",
    "plt.figure(figsize=(12,12))\n",
    "plt.subplot(1,2,1)\n",
    "plt.imshow(img)\n",
    "plt.subplot(1,2,2)\n",
    "plt.imshow(img_dil)\n",
    "plt.show()"
   ]
  },
  {
   "cell_type": "markdown",
   "id": "dc2a26af",
   "metadata": {},
   "source": [
    "### Or\n",
    "https://docs.scipy.org/doc/scipy-0.14.0/reference/ndimage.html#module-scipy.ndimage.morphology"
   ]
  },
  {
   "cell_type": "markdown",
   "id": "6d2daea2",
   "metadata": {},
   "source": [
    "`scipy.ndimage` more basic compared to `skimage`"
   ]
  },
  {
   "cell_type": "markdown",
   "id": "cc5222a1",
   "metadata": {},
   "source": [
    "### Or\n",
    "https://docs.opencv.org/trunk/d9/d61/tutorial_py_morphological_ops.html"
   ]
  },
  {
   "cell_type": "markdown",
   "id": "e4ba668d",
   "metadata": {},
   "source": [
    "### Structuring Elements\n",
    "\n",
    "[https://docs.scipy.org/doc/scipy/reference/generated/scipy.ndimage.generate_binary_structure.html](https://docs.scipy.org/doc/scipy/reference/generated/scipy.ndimage.generate_binary_structure.html)"
   ]
  },
  {
   "cell_type": "code",
   "execution_count": null,
   "id": "7e501879",
   "metadata": {},
   "outputs": [],
   "source": [
    "from skimage.morphology import disk\n",
    "from scipy.ndimage import morphology as morph, generate_binary_structure\n",
    "\n",
    "struct_elem1 = generate_binary_structure(2, 1)\n",
    "struct_elem2 = generate_binary_structure(2, 2)\n",
    "struct_elem3 = disk(13)\n",
    "\n",
    "plt.figure(figsize=(12,12))\n",
    "plt.subplot(1, 3,1); plt.imshow(struct_elem1, vmin=0, vmax=1); plt.title(\"Cross\")\n",
    "plt.xticks([]); plt.yticks([])\n",
    "plt.subplot(1, 3,2); plt.imshow(struct_elem2, vmin=0, vmax=1); plt.title(\"Square\")\n",
    "plt.xticks([]); plt.yticks([])\n",
    "plt.subplot(1, 3,3); plt.imshow(struct_elem3, vmin=0, vmax=1); plt.title(\"Disk\")\n",
    "plt.xticks([]); plt.yticks([])\n",
    "plt.show()"
   ]
  },
  {
   "cell_type": "markdown",
   "id": "90a6cdd5",
   "metadata": {
    "slideshow": {
     "slide_type": "slide"
    }
   },
   "source": [
    "# Matplotlib interaction"
   ]
  },
  {
   "cell_type": "markdown",
   "id": "1c7a6586",
   "metadata": {},
   "source": [
    "Matplotlib supports different backends. For notebooks\n",
    "* `inline`: creates (immutable) images\n",
    "* `notebook`: interactive interface\n",
    "    \n",
    "To use the `notebook` backend, start your cell with\n",
    "```python\n",
    "%matplotlib notebook\n",
    "```"
   ]
  },
  {
   "cell_type": "code",
   "execution_count": null,
   "id": "6805f097",
   "metadata": {
    "slideshow": {
     "slide_type": "slide"
    }
   },
   "outputs": [],
   "source": [
    "%matplotlib notebook\n",
    "\n",
    "import matplotlib.pyplot as plt\n",
    "import imageio\n",
    "\n",
    "img = imageio.imread('imageio:camera.png')\n",
    "\n",
    "fig = plt.figure()\n",
    "mpl_image = plt.imshow(img, cmap='gray')\n",
    "plt.show()"
   ]
  },
  {
   "cell_type": "code",
   "execution_count": null,
   "id": "2b5095b9",
   "metadata": {},
   "outputs": [],
   "source": [
    "img2 = imageio.imread('imageio:moon.png')\n",
    "mpl_image.set_data(img2)"
   ]
  },
  {
   "cell_type": "code",
   "execution_count": null,
   "id": "307a7bb6",
   "metadata": {},
   "outputs": [],
   "source": [
    "mpl_image.set_data(img)"
   ]
  },
  {
   "cell_type": "code",
   "execution_count": null,
   "id": "6d36cff3",
   "metadata": {},
   "outputs": [],
   "source": [
    "plt.close(fig)"
   ]
  },
  {
   "cell_type": "markdown",
   "id": "e7a1f840",
   "metadata": {
    "slideshow": {
     "slide_type": "subslide"
    }
   },
   "source": [
    "## Reacting to mouse events"
   ]
  },
  {
   "cell_type": "markdown",
   "id": "38a8f93b",
   "metadata": {},
   "source": [
    "Matplotlib allows for interaction using an [event interface](https://matplotlib.org/stable/users/event_handling.html). Events include:\n",
    "* Mouse button press and release\n",
    "* Mouse move events\n",
    "* Keyboard press and release (requires focus!)\n",
    "* Figure events (resize, draw, close)"
   ]
  },
  {
   "cell_type": "code",
   "execution_count": null,
   "id": "eba56808",
   "metadata": {},
   "outputs": [],
   "source": [
    "%matplotlib notebook\n",
    "import imageio\n",
    "import matplotlib.pyplot as plt\n",
    "\n",
    "fig = plt.figure()\n",
    "ax = plt.gca()\n",
    "mpl_text = ax.text(0.,0.97, \"\", va=\"bottom\", ha=\"left\")\n",
    "\n",
    "def onclick(event):\n",
    "    text = f\"button={event.button}, x={event.x}, y={event.y}, xdata={event.xdata:.2f}, ydata={event.ydata:.2f}\"\n",
    "    mpl_text.set_text(text)\n",
    "\n",
    "cid = fig.canvas.mpl_connect('button_press_event', onclick)\n",
    "\n",
    "plt.imshow(img, cmap='gray')\n",
    "plt.show()"
   ]
  },
  {
   "cell_type": "code",
   "execution_count": null,
   "id": "1c389704",
   "metadata": {},
   "outputs": [],
   "source": [
    "plt.disconnect(cid)\n",
    "plt.close(fig)"
   ]
  },
  {
   "cell_type": "markdown",
   "id": "e2e7cbd3",
   "metadata": {
    "slideshow": {
     "slide_type": "subslide"
    }
   },
   "source": [
    "This allows for interactive figures:"
   ]
  },
  {
   "cell_type": "code",
   "execution_count": null,
   "id": "d00a0bb2",
   "metadata": {},
   "outputs": [],
   "source": [
    "%matplotlib notebook\n",
    "import numpy as np\n",
    "import matplotlib.pyplot as plt\n",
    "import imageio\n",
    "\n",
    "img = imageio.imread('imageio:camera.png').astype(np.float32) / 255\n",
    "columns, rows = img.shape[:2]\n",
    "row = 100\n",
    "\n",
    "# plot the image\n",
    "fig = plt.figure(figsize=(10, 5))\n",
    "plt.subplot(1,2,1); \n",
    "plt.imshow(img, cmap='gray')\n",
    "mpl_line, = plt.plot([0, columns-1], [row, row])\n",
    "\n",
    "# plot the row\n",
    "ax2 = plt.subplot(1,2,2)\n",
    "ax2.set_ylim([0,1])\n",
    "c = np.arange(columns)\n",
    "r = img[row,:].copy()\n",
    "mpl_plot, = plt.plot([0, columns-1], [0, 0], 'b', label='image row')\n",
    "plt.legend()\n",
    "\n",
    "def onclick(event):\n",
    "    row = int(event.ydata)\n",
    "    mpl_line.set_data([0, columns-1], [row, row])\n",
    "    mpl_plot.set_data(np.arange(columns), img[row, :])\n",
    "\n",
    "cid = fig.canvas.mpl_connect('button_press_event', onclick)\n",
    "plt.show()"
   ]
  },
  {
   "cell_type": "markdown",
   "id": "5138dc59",
   "metadata": {
    "slideshow": {
     "slide_type": "subslide"
    }
   },
   "source": [
    "## Matplotlib Widgets\n",
    "\n",
    "Matplotlib also offers a set of [widgets](https://matplotlib.org/stable/api/widgets_api.html), including:\n",
    "* buttons\n",
    "* radio and checkboxes\n",
    "* slider"
   ]
  },
  {
   "cell_type": "code",
   "execution_count": null,
   "id": "4a8400ca",
   "metadata": {},
   "outputs": [],
   "source": [
    "%matplotlib notebook\n",
    "import imageio\n",
    "import numpy as np\n",
    "import matplotlib.pyplot as plt\n",
    "from matplotlib.widgets import RadioButtons\n",
    "from skimage.filters import sobel\n",
    "\n",
    "img = imageio.imread('imageio:camera.png').astype(np.float32) / 255\n",
    "\n",
    "fig = plt.figure('Sobel filtering + Radio demo', figsize=(10, 5))\n",
    "\n",
    "# show the image\n",
    "ax1 = plt.subplot(1,2,1)\n",
    "mpl_image = plt.imshow(img, cmap='gray')\n",
    "\n",
    "# show the radio buttons\n",
    "ax2 = plt.subplot(1,2,2)\n",
    "butRadio = RadioButtons(ax2, ('None', 'Horizontal', 'Vertical', 'Magnitude'))\n",
    "\n",
    "def onclick(filter):\n",
    "    ax1.set_title(filter)\n",
    "    if filter == 'None':\n",
    "        mpl_image.set_data(img)\n",
    "        mpl_image.set_clim(0,1)\n",
    "    elif filter == 'Horizontal':\n",
    "        mpl_image.set_data(sobel(img, axis=0))\n",
    "        mpl_image.set_clim(-1,1)\n",
    "    elif filter == 'Vertical':\n",
    "        mpl_image.set_data(sobel(img, axis=1))\n",
    "        mpl_image.set_clim(-1,1)\n",
    "    elif filter == 'Magnitude':\n",
    "        mpl_image.set_data(sobel(img))\n",
    "        mpl_image.set_clim(0,1)\n",
    "\n",
    "butRadio.on_clicked(onclick)\n",
    "plt.show()"
   ]
  },
  {
   "cell_type": "code",
   "execution_count": null,
   "id": "cce22eef",
   "metadata": {},
   "outputs": [],
   "source": [
    "%matplotlib notebook\n",
    "import imageio\n",
    "import numpy as np\n",
    "import matplotlib.pyplot as plt\n",
    "from matplotlib.widgets import Slider\n",
    "from skimage.filters import sobel\n",
    "\n",
    "img1 = imageio.imread('imageio:camera.png').astype(np.float32) / 255\n",
    "img2 = imageio.imread('imageio:moon.png').astype(np.float32) / 255\n",
    "\n",
    "fig = plt.figure('Slider demo', figsize=(10, 5))\n",
    "\n",
    "# show the image\n",
    "ax1 = plt.subplot(1,2,1)\n",
    "mpl_image = plt.imshow(img, cmap='gray')\n",
    "\n",
    "# show the radio buttons\n",
    "ax2 = plt.subplot(1,2,2)\n",
    "plt.axis('off')\n",
    "axSlider = plt.axes([0.55, 0.5, 0.3, 0.05])\n",
    "slider = Slider(axSlider,'Mix', 0,1, valinit=0)\n",
    "\n",
    "def on_slider_changed(value):\n",
    "    ax1.set_title(f\"{value:.2f}\")\n",
    "    mpl_image.set_data((1-value) * img1 + value * img2)\n",
    "\n",
    "slider.on_changed(on_slider_changed)\n",
    "plt.show()"
   ]
  },
  {
   "cell_type": "markdown",
   "id": "823042e8",
   "metadata": {},
   "source": [
    "# Matplotlib Animations"
   ]
  },
  {
   "cell_type": "markdown",
   "id": "92e8f29b",
   "metadata": {},
   "source": [
    "Animations may help to visualize and understand the effects of parameters."
   ]
  },
  {
   "cell_type": "markdown",
   "id": "52e6fd2b",
   "metadata": {},
   "source": [
    "## \"Poor man's animation\"\n",
    "\n",
    "Idea: regularly update the figure:\n",
    "1. setup the figure\n",
    "2. provide a function to update the figure\n",
    "3. create a loop to run the animation"
   ]
  },
  {
   "cell_type": "code",
   "execution_count": null,
   "id": "03e0584f",
   "metadata": {},
   "outputs": [],
   "source": [
    "%matplotlib notebook\n",
    "import numpy as np\n",
    "import matplotlib.pyplot as plt\n",
    "import imageio\n",
    "\n",
    "img = imageio.imread('imageio:camera.png').astype(np.float32) / 255\n",
    "columns, rows = img.shape[:2]\n",
    "\n",
    "# plot the image\n",
    "fig = plt.figure(figsize=(10, 5))\n",
    "plt.subplot(1,2,1); \n",
    "plt.imshow(img, cmap='gray')\n",
    "mpl_line, = plt.plot([], [])\n",
    "\n",
    "# plot the row\n",
    "ax2 = plt.subplot(1,2,2)\n",
    "ax2.set_ylim([0,1])\n",
    "ax2.set_xlim([0, columns])\n",
    "mpl_plot, = plt.plot([], [], 'b', label='image row')\n",
    "plt.legend(loc='upper right')\n",
    "\n",
    "plt.show()"
   ]
  },
  {
   "cell_type": "code",
   "execution_count": null,
   "id": "e1b347a2",
   "metadata": {},
   "outputs": [],
   "source": [
    "def show_row(row):\n",
    "    mpl_line.set_data([0, columns-1], [row, row])\n",
    "    mpl_plot.set_data(np.arange(columns), img[row, :])\n",
    "    fig.canvas.draw()  # has to be called explicitly!\n",
    "\n",
    "for row in range(len(img)):\n",
    "    show_row(row)"
   ]
  },
  {
   "cell_type": "markdown",
   "id": "231981e1",
   "metadata": {
    "slideshow": {
     "slide_type": "slide"
    }
   },
   "source": [
    "## The `matplotlib.anmation` module\n",
    "\n",
    "Matplotlib provides the [`animation` module](https://matplotlib.org/stable/api/animation_api.html) to create and work with animations."
   ]
  },
  {
   "cell_type": "markdown",
   "id": "1a7db4b0",
   "metadata": {
    "slideshow": {
     "slide_type": "subslide"
    }
   },
   "source": [
    "To create an animation, different `Animation` classes can be used.\n",
    "* `TimedAninmation`: The `matplotlib.animation.TimedAnimation` creates an animation by displaying new frames at regular time intervals.\n",
    "* `FuncAninmation`: The `matplotlib.animation.FuncAnimation` is a subclass of the `TimedAnimation`. It creates an animation by calling a function in regular intervals to update a figure.\n",
    "* `ArtistAnimation`: The `matplotlib.animation.FuncAnimation` is a subclass of the `TimedAnimation`. It creates an animation from a sequence of MatPlotLib artists."
   ]
  },
  {
   "cell_type": "markdown",
   "id": "603efd31",
   "metadata": {
    "slideshow": {
     "slide_type": "subslide"
    }
   },
   "source": [
    "### The `FuncAnimation` class\n",
    "\n",
    "The `FuncAnimation` takes the following arguments:\n",
    "* `func`: the function to be called to create the next frame.\n",
    "* `frames`: can be a number or an iterator. Will be passed as first argument to the update function\n",
    "* `interval`: delay between frames in milliseconds (default: 200 = 5 frames per second). A value of 40 will yield 25 frames per second."
   ]
  },
  {
   "cell_type": "code",
   "execution_count": null,
   "id": "e5c977fd",
   "metadata": {},
   "outputs": [],
   "source": [
    "%matplotlib notebook\n",
    "import numpy as np\n",
    "import matplotlib.pyplot as plt\n",
    "from matplotlib import animation\n",
    "import imageio\n",
    "\n",
    "img = imageio.imread('imageio:camera.png').astype(np.float32) / 255\n",
    "columns, rows = img.shape[:2]\n",
    "\n",
    "# show the image\n",
    "fig = plt.figure(figsize=(10, 5))\n",
    "plt.subplot(1,2,1); \n",
    "plt.imshow(img, cmap='gray')\n",
    "mpl_line, = plt.plot([], [])\n",
    "\n",
    "# plot the row\n",
    "ax2 = plt.subplot(1,2,2)\n",
    "ax2.set_ylim([0,1])\n",
    "ax2.set_xlim([0,columns])\n",
    "mpl_plot, = plt.plot([], [], 'b', label='image row')\n",
    "plt.legend(loc='upper right')\n",
    "\n",
    "# animation function. This is called sequentially\n",
    "def animate(i):\n",
    "    mpl_line.set_data([0, columns-1], [i, i])\n",
    "    mpl_plot.set_data(np.arange(columns), img[i, :])\n",
    "    return [mpl_line, mpl_plot]\n",
    "\n",
    "# call the animator. blit=True means only re-draw the parts that have changed.\n",
    "anim = animation.FuncAnimation(fig, animate, frames=len(img), interval=20, repeat=False, blit=True)\n",
    "\n",
    "fig.show()"
   ]
  },
  {
   "cell_type": "markdown",
   "id": "a84142e6",
   "metadata": {
    "slideshow": {
     "slide_type": "subslide"
    }
   },
   "source": [
    "### Alternative: `ArtistAnimation`\n",
    "\n",
    "* create animation using a fixed set of Artist objects\n",
    "* for each frame a collection of Artist objects is given\n",
    "* only those artists are made visible on the corresponding frame, other artists are made invisible"
   ]
  },
  {
   "cell_type": "code",
   "execution_count": null,
   "id": "d26deee5",
   "metadata": {},
   "outputs": [],
   "source": [
    "%matplotlib notebook\n",
    "import numpy as np\n",
    "import matplotlib.pyplot as plt\n",
    "from matplotlib import animation\n",
    "import imageio\n",
    "\n",
    "img = imageio.imread('imageio:camera.png').astype(np.float32) / 255\n",
    "columns, rows = img.shape[:2]\n",
    "\n",
    "fig = plt.figure(figsize=(10, 5))\n",
    "# show the image\n",
    "ax1 = plt.subplot(1,2,1)\n",
    "plt.imshow(img, cmap='gray')\n",
    "\n",
    "# plot the row\n",
    "ax2 = plt.subplot(1,2,2)\n",
    "ax2.set_ylim([0,1])\n",
    "\n",
    "# create a list of artists collections\n",
    "frames = []\n",
    "for row in range(rows):\n",
    "    plt.subplot(1,2,1)\n",
    "    mpl_line, = ax1.plot([0, columns-1], [row, row], 'b')\n",
    "    plt.subplot(1,2,2)\n",
    "    mpl_plot, = ax2.plot(np.arange(columns), img[row, :], 'b', label='image row')\n",
    "    frames.append([mpl_line, mpl_plot])\n",
    "\n",
    "anim = animation.ArtistAnimation(fig, frames, interval=20, repeat=False, blit=True)\n",
    "\n",
    "fig.show()"
   ]
  },
  {
   "cell_type": "markdown",
   "id": "866a5185",
   "metadata": {
    "slideshow": {
     "slide_type": "subslide"
    }
   },
   "source": [
    "### Showing animations in the notebook: `to_html5_video()`"
   ]
  },
  {
   "cell_type": "code",
   "execution_count": null,
   "id": "ccb1ec08",
   "metadata": {
    "slideshow": {
     "slide_type": "-"
    }
   },
   "outputs": [],
   "source": [
    "from IPython.display import HTML\n",
    "HTML(anim.to_html5_video())  # this may need some time!"
   ]
  },
  {
   "cell_type": "markdown",
   "id": "4370c15d",
   "metadata": {
    "slideshow": {
     "slide_type": "subslide"
    }
   },
   "source": [
    "### Storing animations: `anim.save`\n",
    "\n",
    "* animation can be stored in different formats\n",
    "* various parameters can be passed to adapt the output (see [documentation](https://matplotlib.org/stable/api/_as_gen/matplotlib.animation.Animation.html#matplotlib.animation.Animation.save))\n",
    "* different backends can be used (may have to be installed separately)"
   ]
  },
  {
   "cell_type": "code",
   "execution_count": null,
   "id": "fb5a40b1",
   "metadata": {},
   "outputs": [],
   "source": [
    "anim.save('anim.mp4', fps=20)  # this may need some time!"
   ]
  },
  {
   "cell_type": "code",
   "execution_count": null,
   "id": "5bc4adbe",
   "metadata": {},
   "outputs": [],
   "source": [
    "!ls"
   ]
  },
  {
   "cell_type": "code",
   "execution_count": null,
   "id": "08d71f66",
   "metadata": {
    "slideshow": {
     "slide_type": "subslide"
    }
   },
   "outputs": [],
   "source": [
    "from IPython.display import Video\n",
    "Video(\"anim.mp4\")"
   ]
  },
  {
   "cell_type": "markdown",
   "id": "473d16e9",
   "metadata": {},
   "source": [
    "### Assignment Sheet 03\n",
    "\n",
    "* Result images folder\n",
    "    * Example images generated by our sample solution\n",
    "* Assignment 04\n",
    "    * Erosion and Dilation on grayscale images\n",
    "        * Erosion = Minimum\n",
    "        * Dilation = Maximum\n",
    "    * Erosion and Dilation on color images\n",
    "        * Repeat procedure for grayscale images for each color channel\n",
    "\n"
   ]
  }
 ],
 "metadata": {
  "kernelspec": {
   "display_name": "Python 3 (ipykernel)",
   "language": "python",
   "name": "python3"
  }
 },
 "nbformat": 4,
 "nbformat_minor": 5
}
